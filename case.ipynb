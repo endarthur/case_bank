{
 "cells": [
  {
   "cell_type": "markdown",
   "metadata": {},
   "source": [
    "## Carga dos Dados e Pré-Processamento"
   ]
  },
  {
   "cell_type": "code",
   "execution_count": 1,
   "metadata": {},
   "outputs": [],
   "source": [
    "%matplotlib inline\n",
    "import pandas as pd\n",
    "import numpy as np\n",
    "from matplotlib import pyplot as plt\n",
    "\n",
    "import seaborn as sns\n",
    "\n",
    "import sklearn\n",
    "from sklearn import metrics, model_selection, ensemble"
   ]
  },
  {
   "cell_type": "code",
   "execution_count": 2,
   "metadata": {},
   "outputs": [
    {
     "data": {
      "text/html": [
       "<div>\n",
       "<style scoped>\n",
       "    .dataframe tbody tr th:only-of-type {\n",
       "        vertical-align: middle;\n",
       "    }\n",
       "\n",
       "    .dataframe tbody tr th {\n",
       "        vertical-align: top;\n",
       "    }\n",
       "\n",
       "    .dataframe thead th {\n",
       "        text-align: right;\n",
       "    }\n",
       "</style>\n",
       "<table border=\"1\" class=\"dataframe\">\n",
       "  <thead>\n",
       "    <tr style=\"text-align: right;\">\n",
       "      <th></th>\n",
       "      <th>age</th>\n",
       "      <th>job</th>\n",
       "      <th>marital</th>\n",
       "      <th>education</th>\n",
       "      <th>default</th>\n",
       "      <th>balance</th>\n",
       "      <th>housing</th>\n",
       "      <th>loan</th>\n",
       "      <th>contact</th>\n",
       "      <th>day</th>\n",
       "      <th>month</th>\n",
       "      <th>duration</th>\n",
       "      <th>campaign</th>\n",
       "      <th>pdays</th>\n",
       "      <th>previous</th>\n",
       "      <th>poutcome</th>\n",
       "      <th>y</th>\n",
       "    </tr>\n",
       "  </thead>\n",
       "  <tbody>\n",
       "    <tr>\n",
       "      <th>0</th>\n",
       "      <td>58</td>\n",
       "      <td>management</td>\n",
       "      <td>married</td>\n",
       "      <td>tertiary</td>\n",
       "      <td>False</td>\n",
       "      <td>2143</td>\n",
       "      <td>True</td>\n",
       "      <td>False</td>\n",
       "      <td>unknown</td>\n",
       "      <td>5</td>\n",
       "      <td>may</td>\n",
       "      <td>261</td>\n",
       "      <td>1</td>\n",
       "      <td>-1</td>\n",
       "      <td>0</td>\n",
       "      <td>unknown</td>\n",
       "      <td>False</td>\n",
       "    </tr>\n",
       "    <tr>\n",
       "      <th>1</th>\n",
       "      <td>44</td>\n",
       "      <td>technician</td>\n",
       "      <td>single</td>\n",
       "      <td>secondary</td>\n",
       "      <td>False</td>\n",
       "      <td>29</td>\n",
       "      <td>True</td>\n",
       "      <td>False</td>\n",
       "      <td>unknown</td>\n",
       "      <td>5</td>\n",
       "      <td>may</td>\n",
       "      <td>151</td>\n",
       "      <td>1</td>\n",
       "      <td>-1</td>\n",
       "      <td>0</td>\n",
       "      <td>unknown</td>\n",
       "      <td>False</td>\n",
       "    </tr>\n",
       "    <tr>\n",
       "      <th>2</th>\n",
       "      <td>33</td>\n",
       "      <td>entrepreneur</td>\n",
       "      <td>married</td>\n",
       "      <td>secondary</td>\n",
       "      <td>False</td>\n",
       "      <td>2</td>\n",
       "      <td>True</td>\n",
       "      <td>True</td>\n",
       "      <td>unknown</td>\n",
       "      <td>5</td>\n",
       "      <td>may</td>\n",
       "      <td>76</td>\n",
       "      <td>1</td>\n",
       "      <td>-1</td>\n",
       "      <td>0</td>\n",
       "      <td>unknown</td>\n",
       "      <td>False</td>\n",
       "    </tr>\n",
       "    <tr>\n",
       "      <th>3</th>\n",
       "      <td>47</td>\n",
       "      <td>blue-collar</td>\n",
       "      <td>married</td>\n",
       "      <td>unknown</td>\n",
       "      <td>False</td>\n",
       "      <td>1506</td>\n",
       "      <td>True</td>\n",
       "      <td>False</td>\n",
       "      <td>unknown</td>\n",
       "      <td>5</td>\n",
       "      <td>may</td>\n",
       "      <td>92</td>\n",
       "      <td>1</td>\n",
       "      <td>-1</td>\n",
       "      <td>0</td>\n",
       "      <td>unknown</td>\n",
       "      <td>False</td>\n",
       "    </tr>\n",
       "    <tr>\n",
       "      <th>4</th>\n",
       "      <td>33</td>\n",
       "      <td>unknown</td>\n",
       "      <td>single</td>\n",
       "      <td>unknown</td>\n",
       "      <td>False</td>\n",
       "      <td>1</td>\n",
       "      <td>False</td>\n",
       "      <td>False</td>\n",
       "      <td>unknown</td>\n",
       "      <td>5</td>\n",
       "      <td>may</td>\n",
       "      <td>198</td>\n",
       "      <td>1</td>\n",
       "      <td>-1</td>\n",
       "      <td>0</td>\n",
       "      <td>unknown</td>\n",
       "      <td>False</td>\n",
       "    </tr>\n",
       "  </tbody>\n",
       "</table>\n",
       "</div>"
      ],
      "text/plain": [
       "   age           job  marital  education  default  balance  housing   loan  \\\n",
       "0   58    management  married   tertiary    False     2143     True  False   \n",
       "1   44    technician   single  secondary    False       29     True  False   \n",
       "2   33  entrepreneur  married  secondary    False        2     True   True   \n",
       "3   47   blue-collar  married    unknown    False     1506     True  False   \n",
       "4   33       unknown   single    unknown    False        1    False  False   \n",
       "\n",
       "   contact  day month  duration  campaign  pdays  previous poutcome      y  \n",
       "0  unknown    5   may       261         1     -1         0  unknown  False  \n",
       "1  unknown    5   may       151         1     -1         0  unknown  False  \n",
       "2  unknown    5   may        76         1     -1         0  unknown  False  \n",
       "3  unknown    5   may        92         1     -1         0  unknown  False  \n",
       "4  unknown    5   may       198         1     -1         0  unknown  False  "
      ]
     },
     "execution_count": 2,
     "metadata": {},
     "output_type": "execute_result"
    }
   ],
   "source": [
    "df = pd.read_csv(\"bank/bank-full.csv\", delimiter=\";\")\n",
    "for v in [\"default\", \"housing\", \"loan\", \"y\"]:  # converting boolean (y/n) data to Bool\n",
    "    df[v] = df[v] == \"yes\"\n",
    "df.head()"
   ]
  },
  {
   "cell_type": "markdown",
   "metadata": {},
   "source": [
    "### 1. Qual profissão tem mais tendência a fazer um empréstimo? De qual tipo?"
   ]
  },
  {
   "cell_type": "code",
   "execution_count": 3,
   "metadata": {},
   "outputs": [
    {
     "data": {
      "text/html": [
       "<style  type=\"text/css\" >\n",
       "    #T_72b12d7e_1552_11ea_a44c_5cc9d3ab3042row0_col0 {\n",
       "            background-color:  lightgreen;\n",
       "        }    #T_72b12d7e_1552_11ea_a44c_5cc9d3ab3042row0_col1 {\n",
       "            background-color:  lightgreen;\n",
       "        }    #T_72b12d7e_1552_11ea_a44c_5cc9d3ab3042row3_col2 {\n",
       "            background-color:  lightgreen;\n",
       "        }</style><table id=\"T_72b12d7e_1552_11ea_a44c_5cc9d3ab3042\" ><thead>    <tr>        <th class=\"blank level0\" ></th>        <th class=\"col_heading level0 col0\" >any loan</th>        <th class=\"col_heading level0 col1\" >housing</th>        <th class=\"col_heading level0 col2\" >loan</th>    </tr>    <tr>        <th class=\"index_name level0\" >job</th>        <th class=\"blank\" ></th>        <th class=\"blank\" ></th>        <th class=\"blank\" ></th>    </tr></thead><tbody>\n",
       "                <tr>\n",
       "                        <th id=\"T_72b12d7e_1552_11ea_a44c_5cc9d3ab3042level0_row0\" class=\"row_heading level0 row0\" >blue-collar</th>\n",
       "                        <td id=\"T_72b12d7e_1552_11ea_a44c_5cc9d3ab3042row0_col0\" class=\"data row0 col0\" >78.08%</td>\n",
       "                        <td id=\"T_72b12d7e_1552_11ea_a44c_5cc9d3ab3042row0_col1\" class=\"data row0 col1\" >72.42%</td>\n",
       "                        <td id=\"T_72b12d7e_1552_11ea_a44c_5cc9d3ab3042row0_col2\" class=\"data row0 col2\" >17.30%</td>\n",
       "            </tr>\n",
       "            <tr>\n",
       "                        <th id=\"T_72b12d7e_1552_11ea_a44c_5cc9d3ab3042level0_row1\" class=\"row_heading level0 row1\" >services</th>\n",
       "                        <td id=\"T_72b12d7e_1552_11ea_a44c_5cc9d3ab3042row1_col0\" class=\"data row1 col0\" >73.74%</td>\n",
       "                        <td id=\"T_72b12d7e_1552_11ea_a44c_5cc9d3ab3042row1_col1\" class=\"data row1 col1\" >66.59%</td>\n",
       "                        <td id=\"T_72b12d7e_1552_11ea_a44c_5cc9d3ab3042row1_col2\" class=\"data row1 col2\" >20.13%</td>\n",
       "            </tr>\n",
       "            <tr>\n",
       "                        <th id=\"T_72b12d7e_1552_11ea_a44c_5cc9d3ab3042level0_row2\" class=\"row_heading level0 row2\" >admin.</th>\n",
       "                        <td id=\"T_72b12d7e_1552_11ea_a44c_5cc9d3ab3042row2_col0\" class=\"data row2 col0\" >69.02%</td>\n",
       "                        <td id=\"T_72b12d7e_1552_11ea_a44c_5cc9d3ab3042row2_col1\" class=\"data row2 col1\" >61.54%</td>\n",
       "                        <td id=\"T_72b12d7e_1552_11ea_a44c_5cc9d3ab3042row2_col2\" class=\"data row2 col2\" >19.16%</td>\n",
       "            </tr>\n",
       "            <tr>\n",
       "                        <th id=\"T_72b12d7e_1552_11ea_a44c_5cc9d3ab3042level0_row3\" class=\"row_heading level0 row3\" >entrepreneur</th>\n",
       "                        <td id=\"T_72b12d7e_1552_11ea_a44c_5cc9d3ab3042row3_col0\" class=\"data row3 col0\" >68.33%</td>\n",
       "                        <td id=\"T_72b12d7e_1552_11ea_a44c_5cc9d3ab3042row3_col1\" class=\"data row3 col1\" >58.44%</td>\n",
       "                        <td id=\"T_72b12d7e_1552_11ea_a44c_5cc9d3ab3042row3_col2\" class=\"data row3 col2\" >23.94%</td>\n",
       "            </tr>\n",
       "            <tr>\n",
       "                        <th id=\"T_72b12d7e_1552_11ea_a44c_5cc9d3ab3042level0_row4\" class=\"row_heading level0 row4\" >technician</th>\n",
       "                        <td id=\"T_72b12d7e_1552_11ea_a44c_5cc9d3ab3042row4_col0\" class=\"data row4 col0\" >60.66%</td>\n",
       "                        <td id=\"T_72b12d7e_1552_11ea_a44c_5cc9d3ab3042row4_col1\" class=\"data row4 col1\" >54.17%</td>\n",
       "                        <td id=\"T_72b12d7e_1552_11ea_a44c_5cc9d3ab3042row4_col2\" class=\"data row4 col2\" >17.23%</td>\n",
       "            </tr>\n",
       "            <tr>\n",
       "                        <th id=\"T_72b12d7e_1552_11ea_a44c_5cc9d3ab3042level0_row5\" class=\"row_heading level0 row5\" >management</th>\n",
       "                        <td id=\"T_72b12d7e_1552_11ea_a44c_5cc9d3ab3042row5_col0\" class=\"data row5 col0\" >55.24%</td>\n",
       "                        <td id=\"T_72b12d7e_1552_11ea_a44c_5cc9d3ab3042row5_col1\" class=\"data row5 col1\" >49.46%</td>\n",
       "                        <td id=\"T_72b12d7e_1552_11ea_a44c_5cc9d3ab3042row5_col2\" class=\"data row5 col2\" >13.25%</td>\n",
       "            </tr>\n",
       "            <tr>\n",
       "                        <th id=\"T_72b12d7e_1552_11ea_a44c_5cc9d3ab3042level0_row6\" class=\"row_heading level0 row6\" >self-employed</th>\n",
       "                        <td id=\"T_72b12d7e_1552_11ea_a44c_5cc9d3ab3042row6_col0\" class=\"data row6 col0\" >54.72%</td>\n",
       "                        <td id=\"T_72b12d7e_1552_11ea_a44c_5cc9d3ab3042row6_col1\" class=\"data row6 col1\" >48.45%</td>\n",
       "                        <td id=\"T_72b12d7e_1552_11ea_a44c_5cc9d3ab3042row6_col2\" class=\"data row6 col2\" >14.50%</td>\n",
       "            </tr>\n",
       "            <tr>\n",
       "                        <th id=\"T_72b12d7e_1552_11ea_a44c_5cc9d3ab3042level0_row7\" class=\"row_heading level0 row7\" >unemployed</th>\n",
       "                        <td id=\"T_72b12d7e_1552_11ea_a44c_5cc9d3ab3042row7_col0\" class=\"data row7 col0\" >45.20%</td>\n",
       "                        <td id=\"T_72b12d7e_1552_11ea_a44c_5cc9d3ab3042row7_col1\" class=\"data row7 col1\" >41.67%</td>\n",
       "                        <td id=\"T_72b12d7e_1552_11ea_a44c_5cc9d3ab3042row7_col2\" class=\"data row7 col2\" >8.37%</td>\n",
       "            </tr>\n",
       "            <tr>\n",
       "                        <th id=\"T_72b12d7e_1552_11ea_a44c_5cc9d3ab3042level0_row8\" class=\"row_heading level0 row8\" >housemaid</th>\n",
       "                        <td id=\"T_72b12d7e_1552_11ea_a44c_5cc9d3ab3042row8_col0\" class=\"data row8 col0\" >39.52%</td>\n",
       "                        <td id=\"T_72b12d7e_1552_11ea_a44c_5cc9d3ab3042row8_col1\" class=\"data row8 col1\" >32.10%</td>\n",
       "                        <td id=\"T_72b12d7e_1552_11ea_a44c_5cc9d3ab3042row8_col2\" class=\"data row8 col2\" >12.26%</td>\n",
       "            </tr>\n",
       "            <tr>\n",
       "                        <th id=\"T_72b12d7e_1552_11ea_a44c_5cc9d3ab3042level0_row9\" class=\"row_heading level0 row9\" >retired</th>\n",
       "                        <td id=\"T_72b12d7e_1552_11ea_a44c_5cc9d3ab3042row9_col0\" class=\"data row9 col0\" >30.87%</td>\n",
       "                        <td id=\"T_72b12d7e_1552_11ea_a44c_5cc9d3ab3042row9_col1\" class=\"data row9 col1\" >21.69%</td>\n",
       "                        <td id=\"T_72b12d7e_1552_11ea_a44c_5cc9d3ab3042row9_col2\" class=\"data row9 col2\" >13.65%</td>\n",
       "            </tr>\n",
       "            <tr>\n",
       "                        <th id=\"T_72b12d7e_1552_11ea_a44c_5cc9d3ab3042level0_row10\" class=\"row_heading level0 row10\" >student</th>\n",
       "                        <td id=\"T_72b12d7e_1552_11ea_a44c_5cc9d3ab3042row10_col0\" class=\"data row10 col0\" >27.40%</td>\n",
       "                        <td id=\"T_72b12d7e_1552_11ea_a44c_5cc9d3ab3042row10_col1\" class=\"data row10 col1\" >26.55%</td>\n",
       "                        <td id=\"T_72b12d7e_1552_11ea_a44c_5cc9d3ab3042row10_col2\" class=\"data row10 col2\" >1.28%</td>\n",
       "            </tr>\n",
       "            <tr>\n",
       "                        <th id=\"T_72b12d7e_1552_11ea_a44c_5cc9d3ab3042level0_row11\" class=\"row_heading level0 row11\" >unknown</th>\n",
       "                        <td id=\"T_72b12d7e_1552_11ea_a44c_5cc9d3ab3042row11_col0\" class=\"data row11 col0\" >9.72%</td>\n",
       "                        <td id=\"T_72b12d7e_1552_11ea_a44c_5cc9d3ab3042row11_col1\" class=\"data row11 col1\" >9.03%</td>\n",
       "                        <td id=\"T_72b12d7e_1552_11ea_a44c_5cc9d3ab3042row11_col2\" class=\"data row11 col2\" >1.39%</td>\n",
       "            </tr>\n",
       "    </tbody></table>"
      ],
      "text/plain": [
       "<pandas.io.formats.style.Styler at 0x29a243f00f0>"
      ]
     },
     "execution_count": 3,
     "metadata": {},
     "output_type": "execute_result"
    }
   ],
   "source": [
    "(pd\n",
    " .concat([(df.housing | df.loan).rename(\"any loan\"), df[[\"job\", \"housing\", \"loan\"]]], axis=1)\n",
    " .groupby(\"job\")\n",
    " .mean()\n",
    " .sort_values(\"any loan\", ascending=False)\n",
    " .style.highlight_max(color='lightgreen').format(\"{:.2%}\"))"
   ]
  },
  {
   "cell_type": "markdown",
   "metadata": {},
   "source": [
    "Segundo os dados, operários (*blue-collar*), seguidos dos trabalhadores da indústria de serviços.\n",
    "O tipo mais comum de empréstimo é o imobiliário, tanto para essa classe quanto as demais."
   ]
  },
  {
   "cell_type": "markdown",
   "metadata": {},
   "source": [
    "### 2. Fazendo uma relação entre número de contatos e sucesso da campanha quais são os pontos relevantes a serem observados?"
   ]
  },
  {
   "cell_type": "code",
   "execution_count": 4,
   "metadata": {},
   "outputs": [
    {
     "name": "stdout",
     "output_type": "stream",
     "text": [
      "Taxa de sucesso da campanha atual: 0.117\n"
     ]
    }
   ],
   "source": [
    "call_results = pd.crosstab(df.campaign, df.y)\n",
    "call_success = df.groupby(\"campaign\").y.mean()\n",
    "\n",
    "print(f\"Taxa de sucesso da campanha atual: {df.y.mean():.3}\")"
   ]
  },
  {
   "cell_type": "code",
   "execution_count": 5,
   "metadata": {},
   "outputs": [
    {
     "data": {
      "text/plain": [
       "<matplotlib.axes._subplots.AxesSubplot at 0x29a35e61c18>"
      ]
     },
     "execution_count": 5,
     "metadata": {},
     "output_type": "execute_result"
    },
    {
     "data": {
      "image/png": "[encoded data removed]",
      "text/plain": [
       "<Figure size 1152x720 with 1 Axes>"
      ]
     },
     "metadata": {
      "needs_background": "light"
     },
     "output_type": "display_data"
    }
   ],
   "source": [
    "call_results.plot.bar(figsize=(16, 10), title=\"Campaign Result Count\")"
   ]
  },
  {
   "cell_type": "code",
   "execution_count": 6,
   "metadata": {},
   "outputs": [
    {
     "data": {
      "text/plain": [
       "<matplotlib.axes._subplots.AxesSubplot at 0x29a35fc04e0>"
      ]
     },
     "execution_count": 6,
     "metadata": {},
     "output_type": "execute_result"
    },
    {
     "data": {
      "image/png": "[encoded data removed]",
      "text/plain": [
       "<Figure size 1152x720 with 1 Axes>"
      ]
     },
     "metadata": {
      "needs_background": "light"
     },
     "output_type": "display_data"
    }
   ],
   "source": [
    "call_success.plot.bar(title=\"Success Rate\", figsize=(16, 10))"
   ]
  },
  {
   "cell_type": "markdown",
   "metadata": {},
   "source": [
    "O número de novas adesões cai rapidamente com o aumento do número de chamadas. A taxa de sucesso da terceira ligação em diante é menor do que a média global de sucesso. Um grande número de contatos representa em geral aumento de custos com retornos decrescentes, indicando a possível necessidade de se otimizar o tipo e alvo das chamadas."
   ]
  },
  {
   "cell_type": "markdown",
   "metadata": {},
   "source": [
    "### 3. Baseando-se nos resultados de adesão desta campanha qual o número médio e o máximo de ligações que você indica para otimizar a adesão?"
   ]
  },
  {
   "cell_type": "code",
   "execution_count": 7,
   "metadata": {},
   "outputs": [],
   "source": [
    "successful = df[df.y]"
   ]
  },
  {
   "cell_type": "code",
   "execution_count": 8,
   "metadata": {},
   "outputs": [
    {
     "data": {
      "text/plain": [
       "count    5289.000000\n",
       "mean        2.141047\n",
       "std         1.921826\n",
       "min         1.000000\n",
       "25%         1.000000\n",
       "50%         2.000000\n",
       "75%         3.000000\n",
       "max        32.000000\n",
       "Name: campaign, dtype: float64"
      ]
     },
     "execution_count": 8,
     "metadata": {},
     "output_type": "execute_result"
    }
   ],
   "source": [
    "successful.campaign.describe()"
   ]
  },
  {
   "cell_type": "code",
   "execution_count": 9,
   "metadata": {},
   "outputs": [
    {
     "data": {
      "text/plain": [
       "<matplotlib.axes._subplots.AxesSubplot at 0x29a38618dd8>"
      ]
     },
     "execution_count": 9,
     "metadata": {},
     "output_type": "execute_result"
    },
    {
     "data": {
      "image/png": "[encoded data removed]",
      "text/plain": [
       "<Figure size 720x576 with 1 Axes>"
      ]
     },
     "metadata": {
      "needs_background": "light"
     },
     "output_type": "display_data"
    }
   ],
   "source": [
    "plt.figure(figsize=(10, 8))\n",
    "sns.kdeplot(successful.campaign, shade=True)"
   ]
  },
  {
   "cell_type": "code",
   "execution_count": 10,
   "metadata": {},
   "outputs": [
    {
     "data": {
      "text/plain": [
       "<matplotlib.axes._subplots.AxesSubplot at 0x29a3870fa90>"
      ]
     },
     "execution_count": 10,
     "metadata": {},
     "output_type": "execute_result"
    },
    {
     "data": {
      "image/png": "[encoded data removed]",
      "text/plain": [
       "<Figure size 720x576 with 1 Axes>"
      ]
     },
     "metadata": {
      "needs_background": "light"
     },
     "output_type": "display_data"
    }
   ],
   "source": [
    "plt.figure(figsize=(10, 8))\n",
    "successful.campaign.hist(cumulative=True, bins=successful.campaign.max(), density=True, histtype='stepfilled')"
   ]
  },
  {
   "cell_type": "code",
   "execution_count": 11,
   "metadata": {},
   "outputs": [
    {
     "data": {
      "text/html": [
       "<style  type=\"text/css\" >\n",
       "</style><table id=\"T_7424f498_1552_11ea_bece_5cc9d3ab3042\" ><thead>    <tr>        <th class=\"blank level0\" ></th>        <th class=\"col_heading level0 col0\" >y</th>    </tr>    <tr>        <th class=\"index_name level0\" >campaign</th>        <th class=\"blank\" ></th>    </tr></thead><tbody>\n",
       "                <tr>\n",
       "                        <th id=\"T_7424f498_1552_11ea_bece_5cc9d3ab3042level0_row0\" class=\"row_heading level0 row0\" >1</th>\n",
       "                        <td id=\"T_7424f498_1552_11ea_bece_5cc9d3ab3042row0_col0\" class=\"data row0 col0\" >48.42%</td>\n",
       "            </tr>\n",
       "            <tr>\n",
       "                        <th id=\"T_7424f498_1552_11ea_bece_5cc9d3ab3042level0_row1\" class=\"row_heading level0 row1\" >2</th>\n",
       "                        <td id=\"T_7424f498_1552_11ea_bece_5cc9d3ab3042row1_col0\" class=\"data row1 col0\" >74.91%</td>\n",
       "            </tr>\n",
       "            <tr>\n",
       "                        <th id=\"T_7424f498_1552_11ea_bece_5cc9d3ab3042level0_row2\" class=\"row_heading level0 row2\" >3</th>\n",
       "                        <td id=\"T_7424f498_1552_11ea_bece_5cc9d3ab3042row2_col0\" class=\"data row2 col0\" >86.59%</td>\n",
       "            </tr>\n",
       "            <tr>\n",
       "                        <th id=\"T_7424f498_1552_11ea_bece_5cc9d3ab3042level0_row3\" class=\"row_heading level0 row3\" >4</th>\n",
       "                        <td id=\"T_7424f498_1552_11ea_bece_5cc9d3ab3042row3_col0\" class=\"data row3 col0\" >92.59%</td>\n",
       "            </tr>\n",
       "            <tr>\n",
       "                        <th id=\"T_7424f498_1552_11ea_bece_5cc9d3ab3042level0_row4\" class=\"row_heading level0 row4\" >5</th>\n",
       "                        <td id=\"T_7424f498_1552_11ea_bece_5cc9d3ab3042row4_col0\" class=\"data row4 col0\" >95.22%</td>\n",
       "            </tr>\n",
       "            <tr>\n",
       "                        <th id=\"T_7424f498_1552_11ea_bece_5cc9d3ab3042level0_row5\" class=\"row_heading level0 row5\" >6</th>\n",
       "                        <td id=\"T_7424f498_1552_11ea_bece_5cc9d3ab3042row5_col0\" class=\"data row5 col0\" >96.96%</td>\n",
       "            </tr>\n",
       "            <tr>\n",
       "                        <th id=\"T_7424f498_1552_11ea_bece_5cc9d3ab3042level0_row6\" class=\"row_heading level0 row6\" >7</th>\n",
       "                        <td id=\"T_7424f498_1552_11ea_bece_5cc9d3ab3042row6_col0\" class=\"data row6 col0\" >97.84%</td>\n",
       "            </tr>\n",
       "            <tr>\n",
       "                        <th id=\"T_7424f498_1552_11ea_bece_5cc9d3ab3042level0_row7\" class=\"row_heading level0 row7\" >8</th>\n",
       "                        <td id=\"T_7424f498_1552_11ea_bece_5cc9d3ab3042row7_col0\" class=\"data row7 col0\" >98.45%</td>\n",
       "            </tr>\n",
       "            <tr>\n",
       "                        <th id=\"T_7424f498_1552_11ea_bece_5cc9d3ab3042level0_row8\" class=\"row_heading level0 row8\" >9</th>\n",
       "                        <td id=\"T_7424f498_1552_11ea_bece_5cc9d3ab3042row8_col0\" class=\"data row8 col0\" >98.85%</td>\n",
       "            </tr>\n",
       "            <tr>\n",
       "                        <th id=\"T_7424f498_1552_11ea_bece_5cc9d3ab3042level0_row9\" class=\"row_heading level0 row9\" >10</th>\n",
       "                        <td id=\"T_7424f498_1552_11ea_bece_5cc9d3ab3042row9_col0\" class=\"data row9 col0\" >99.11%</td>\n",
       "            </tr>\n",
       "            <tr>\n",
       "                        <th id=\"T_7424f498_1552_11ea_bece_5cc9d3ab3042level0_row10\" class=\"row_heading level0 row10\" >11</th>\n",
       "                        <td id=\"T_7424f498_1552_11ea_bece_5cc9d3ab3042row10_col0\" class=\"data row10 col0\" >99.41%</td>\n",
       "            </tr>\n",
       "            <tr>\n",
       "                        <th id=\"T_7424f498_1552_11ea_bece_5cc9d3ab3042level0_row11\" class=\"row_heading level0 row11\" >12</th>\n",
       "                        <td id=\"T_7424f498_1552_11ea_bece_5cc9d3ab3042row11_col0\" class=\"data row11 col0\" >99.49%</td>\n",
       "            </tr>\n",
       "            <tr>\n",
       "                        <th id=\"T_7424f498_1552_11ea_bece_5cc9d3ab3042level0_row12\" class=\"row_heading level0 row12\" >13</th>\n",
       "                        <td id=\"T_7424f498_1552_11ea_bece_5cc9d3ab3042row12_col0\" class=\"data row12 col0\" >99.60%</td>\n",
       "            </tr>\n",
       "            <tr>\n",
       "                        <th id=\"T_7424f498_1552_11ea_bece_5cc9d3ab3042level0_row13\" class=\"row_heading level0 row13\" >14</th>\n",
       "                        <td id=\"T_7424f498_1552_11ea_bece_5cc9d3ab3042row13_col0\" class=\"data row13 col0\" >99.68%</td>\n",
       "            </tr>\n",
       "            <tr>\n",
       "                        <th id=\"T_7424f498_1552_11ea_bece_5cc9d3ab3042level0_row14\" class=\"row_heading level0 row14\" >15</th>\n",
       "                        <td id=\"T_7424f498_1552_11ea_bece_5cc9d3ab3042row14_col0\" class=\"data row14 col0\" >99.75%</td>\n",
       "            </tr>\n",
       "            <tr>\n",
       "                        <th id=\"T_7424f498_1552_11ea_bece_5cc9d3ab3042level0_row15\" class=\"row_heading level0 row15\" >16</th>\n",
       "                        <td id=\"T_7424f498_1552_11ea_bece_5cc9d3ab3042row15_col0\" class=\"data row15 col0\" >99.79%</td>\n",
       "            </tr>\n",
       "            <tr>\n",
       "                        <th id=\"T_7424f498_1552_11ea_bece_5cc9d3ab3042level0_row16\" class=\"row_heading level0 row16\" >17</th>\n",
       "                        <td id=\"T_7424f498_1552_11ea_bece_5cc9d3ab3042row16_col0\" class=\"data row16 col0\" >99.91%</td>\n",
       "            </tr>\n",
       "            <tr>\n",
       "                        <th id=\"T_7424f498_1552_11ea_bece_5cc9d3ab3042level0_row17\" class=\"row_heading level0 row17\" >20</th>\n",
       "                        <td id=\"T_7424f498_1552_11ea_bece_5cc9d3ab3042row17_col0\" class=\"data row17 col0\" >99.92%</td>\n",
       "            </tr>\n",
       "            <tr>\n",
       "                        <th id=\"T_7424f498_1552_11ea_bece_5cc9d3ab3042level0_row18\" class=\"row_heading level0 row18\" >21</th>\n",
       "                        <td id=\"T_7424f498_1552_11ea_bece_5cc9d3ab3042row18_col0\" class=\"data row18 col0\" >99.94%</td>\n",
       "            </tr>\n",
       "            <tr>\n",
       "                        <th id=\"T_7424f498_1552_11ea_bece_5cc9d3ab3042level0_row19\" class=\"row_heading level0 row19\" >24</th>\n",
       "                        <td id=\"T_7424f498_1552_11ea_bece_5cc9d3ab3042row19_col0\" class=\"data row19 col0\" >99.96%</td>\n",
       "            </tr>\n",
       "            <tr>\n",
       "                        <th id=\"T_7424f498_1552_11ea_bece_5cc9d3ab3042level0_row20\" class=\"row_heading level0 row20\" >29</th>\n",
       "                        <td id=\"T_7424f498_1552_11ea_bece_5cc9d3ab3042row20_col0\" class=\"data row20 col0\" >99.98%</td>\n",
       "            </tr>\n",
       "            <tr>\n",
       "                        <th id=\"T_7424f498_1552_11ea_bece_5cc9d3ab3042level0_row21\" class=\"row_heading level0 row21\" >32</th>\n",
       "                        <td id=\"T_7424f498_1552_11ea_bece_5cc9d3ab3042row21_col0\" class=\"data row21 col0\" >100.00%</td>\n",
       "            </tr>\n",
       "    </tbody></table>"
      ],
      "text/plain": [
       "<pandas.io.formats.style.Styler at 0x29a38c95b38>"
      ]
     },
     "execution_count": 11,
     "metadata": {},
     "output_type": "execute_result"
    }
   ],
   "source": [
    "(successful.groupby(\"campaign\").y.count().cumsum()/successful.campaign.count()).to_frame().style.format(\"{:.2%}\")"
   ]
  },
  {
   "cell_type": "markdown",
   "metadata": {},
   "source": [
    "Cerca de 3/4 do sucesso da campanha atual se deu em até dois contatos, servindo como um valor médio. A adesão pode ser ainda aumentada com um máximo de 5 contatos, abarcando 95% dos resultados positivos. Além disto, o aumento do número não aparenta resultar em ganhos significativos de adesão."
   ]
  },
  {
   "cell_type": "markdown",
   "metadata": {},
   "source": [
    "### 4. O resultado da campanha anterior tem relevância na campanha atual?"
   ]
  },
  {
   "cell_type": "code",
   "execution_count": 12,
   "metadata": {},
   "outputs": [],
   "source": [
    "df[\"py\"] = df.poutcome == \"success\"\n",
    "previous_results = df[(df.poutcome == \"failure\") | (df.poutcome == \"success\")]"
   ]
  },
  {
   "cell_type": "code",
   "execution_count": 13,
   "metadata": {},
   "outputs": [
    {
     "name": "stdout",
     "output_type": "stream",
     "text": [
      "Número de resultados anteriores com valor de sucesso ou falha: 6412\n",
      "Taxa de sucesso na campanha anterior para clientes com resultado claro: 0.24\n",
      "Taxa de sucesso na campanha atual para clientes com resultado claro na campanha anterior: 0.25\n",
      "Correlação de Pearson entre o resultado anterior e o atual para estes casos: 0.51\n"
     ]
    }
   ],
   "source": [
    "print(\n",
    "f\"\"\"Número de resultados anteriores com valor de sucesso ou falha: {previous_results.shape[0]}\n",
    "Taxa de sucesso na campanha anterior para clientes com resultado claro: {(previous_results.poutcome == \"success\").mean():.2}\n",
    "Taxa de sucesso na campanha atual para clientes com resultado claro na campanha anterior: {(previous_results.y).mean():.2}\n",
    "Correlação de Pearson entre o resultado anterior e o atual para estes casos: {(previous_results.poutcome == \"success\").corr(previous_results.y):.2}\"\"\")"
   ]
  },
  {
   "cell_type": "code",
   "execution_count": 14,
   "metadata": {},
   "outputs": [
    {
     "data": {
      "text/html": [
       "<style  type=\"text/css\" >\n",
       "</style><table id=\"T_74358b34_1552_11ea_b235_5cc9d3ab3042\" ><thead>    <tr>        <th class=\"index_name level0\" >previous result</th>        <th class=\"col_heading level0 col0\" >False</th>        <th class=\"col_heading level0 col1\" >True</th>    </tr>    <tr>        <th class=\"index_name level0\" >current result</th>        <th class=\"blank\" ></th>        <th class=\"blank\" ></th>    </tr></thead><tbody>\n",
       "                <tr>\n",
       "                        <th id=\"T_74358b34_1552_11ea_b235_5cc9d3ab3042level0_row0\" class=\"row_heading level0 row0\" >False</th>\n",
       "                        <td id=\"T_74358b34_1552_11ea_b235_5cc9d3ab3042row0_col0\" class=\"data row0 col0\" >87.39%</td>\n",
       "                        <td id=\"T_74358b34_1552_11ea_b235_5cc9d3ab3042row0_col1\" class=\"data row0 col1\" >12.61%</td>\n",
       "            </tr>\n",
       "            <tr>\n",
       "                        <th id=\"T_74358b34_1552_11ea_b235_5cc9d3ab3042level0_row1\" class=\"row_heading level0 row1\" >True</th>\n",
       "                        <td id=\"T_74358b34_1552_11ea_b235_5cc9d3ab3042row1_col0\" class=\"data row1 col0\" >35.27%</td>\n",
       "                        <td id=\"T_74358b34_1552_11ea_b235_5cc9d3ab3042row1_col1\" class=\"data row1 col1\" >64.73%</td>\n",
       "            </tr>\n",
       "    </tbody></table>"
      ],
      "text/plain": [
       "<pandas.io.formats.style.Styler at 0x29a38753160>"
      ]
     },
     "metadata": {},
     "output_type": "display_data"
    }
   ],
   "source": [
    "confusion = pd.crosstab(\n",
    "    previous_results.poutcome == \"success\",\n",
    "    previous_results.y,\n",
    "    rownames=[\"current result\"],\n",
    "    colnames=[\"previous result\"],\n",
    "    normalize=\"index\").style.format(\"{:.2%}\")\n",
    "display(confusion)"
   ]
  },
  {
   "cell_type": "code",
   "execution_count": 15,
   "metadata": {},
   "outputs": [
    {
     "name": "stdout",
     "output_type": "stream",
     "text": [
      "              precision    recall  f1-score   support\n",
      "\n",
      "       False       0.87      0.89      0.88      4816\n",
      "        True       0.65      0.61      0.63      1596\n",
      "\n",
      "    accuracy                           0.82      6412\n",
      "   macro avg       0.76      0.75      0.76      6412\n",
      "weighted avg       0.82      0.82      0.82      6412\n",
      "\n"
     ]
    }
   ],
   "source": [
    "print(metrics.classification_report(previous_results.y, previous_results.poutcome == \"success\"))"
   ]
  },
  {
   "cell_type": "markdown",
   "metadata": {},
   "source": [
    "Selecionando para análise apenas dados com resultado anterior claro (\"success\" ou \"failure\"),\n",
    "o r de Pearson entre as duas campanhas aparenta indicar correlação média. A matriz de confusão\n",
    "e o relatório de classificação também sugerem uma relação, apesar do forte desequilíbro de\n",
    "classes entre sucesso e falha, com precisão (taxa de positivos verdadeiros sobre taxa de positivos)\n",
    "de 65% dado o resultado anterior como preditor. Estes resultados parecem indicar relevância."
   ]
  },
  {
   "cell_type": "markdown",
   "metadata": {},
   "source": [
    "### 5. Qual o fator determinante para que o banco exija um seguro de crédito?"
   ]
  },
  {
   "cell_type": "markdown",
   "metadata": {},
   "source": [
    "Considerando para a questão que os dados disponíveis são os pessoais ao cliente, e que a variável objetivo que faria um banco exigir seguro ou não \"default\" (não pagamento de dívida)."
   ]
  },
  {
   "cell_type": "code",
   "execution_count": 16,
   "metadata": {},
   "outputs": [],
   "source": [
    "cm_green = sns.light_palette(\"green\", as_cmap=True)"
   ]
  },
  {
   "cell_type": "code",
   "execution_count": 17,
   "metadata": {},
   "outputs": [
    {
     "name": "stdout",
     "output_type": "stream",
     "text": [
      "Taxa de default para os dados: 1.80%\n"
     ]
    }
   ],
   "source": [
    "print(f\"Taxa de default para os dados: {df.default.mean():.2%}\")"
   ]
  },
  {
   "cell_type": "code",
   "execution_count": 18,
   "metadata": {},
   "outputs": [
    {
     "data": {
      "text/html": [
       "<div>\n",
       "<style scoped>\n",
       "    .dataframe tbody tr th:only-of-type {\n",
       "        vertical-align: middle;\n",
       "    }\n",
       "\n",
       "    .dataframe tbody tr th {\n",
       "        vertical-align: top;\n",
       "    }\n",
       "\n",
       "    .dataframe thead tr th {\n",
       "        text-align: left;\n",
       "    }\n",
       "\n",
       "    .dataframe thead tr:last-of-type th {\n",
       "        text-align: right;\n",
       "    }\n",
       "</style>\n",
       "<table border=\"1\" class=\"dataframe\">\n",
       "  <thead>\n",
       "    <tr>\n",
       "      <th></th>\n",
       "      <th colspan=\"8\" halign=\"left\">age</th>\n",
       "      <th colspan=\"8\" halign=\"left\">balance</th>\n",
       "    </tr>\n",
       "    <tr>\n",
       "      <th></th>\n",
       "      <th>count</th>\n",
       "      <th>mean</th>\n",
       "      <th>std</th>\n",
       "      <th>min</th>\n",
       "      <th>25%</th>\n",
       "      <th>50%</th>\n",
       "      <th>75%</th>\n",
       "      <th>max</th>\n",
       "      <th>count</th>\n",
       "      <th>mean</th>\n",
       "      <th>std</th>\n",
       "      <th>min</th>\n",
       "      <th>25%</th>\n",
       "      <th>50%</th>\n",
       "      <th>75%</th>\n",
       "      <th>max</th>\n",
       "    </tr>\n",
       "    <tr>\n",
       "      <th>default</th>\n",
       "      <th></th>\n",
       "      <th></th>\n",
       "      <th></th>\n",
       "      <th></th>\n",
       "      <th></th>\n",
       "      <th></th>\n",
       "      <th></th>\n",
       "      <th></th>\n",
       "      <th></th>\n",
       "      <th></th>\n",
       "      <th></th>\n",
       "      <th></th>\n",
       "      <th></th>\n",
       "      <th></th>\n",
       "      <th></th>\n",
       "      <th></th>\n",
       "    </tr>\n",
       "  </thead>\n",
       "  <tbody>\n",
       "    <tr>\n",
       "      <th>False</th>\n",
       "      <td>44396.0</td>\n",
       "      <td>40.961934</td>\n",
       "      <td>10.638882</td>\n",
       "      <td>18.0</td>\n",
       "      <td>33.0</td>\n",
       "      <td>39.0</td>\n",
       "      <td>48.0</td>\n",
       "      <td>95.0</td>\n",
       "      <td>44396.0</td>\n",
       "      <td>1389.806424</td>\n",
       "      <td>3063.275425</td>\n",
       "      <td>-4057.0</td>\n",
       "      <td>84.0</td>\n",
       "      <td>468.0</td>\n",
       "      <td>1462.25</td>\n",
       "      <td>102127.0</td>\n",
       "    </tr>\n",
       "    <tr>\n",
       "      <th>True</th>\n",
       "      <td>815.0</td>\n",
       "      <td>39.534969</td>\n",
       "      <td>9.357804</td>\n",
       "      <td>21.0</td>\n",
       "      <td>32.0</td>\n",
       "      <td>38.0</td>\n",
       "      <td>47.0</td>\n",
       "      <td>71.0</td>\n",
       "      <td>815.0</td>\n",
       "      <td>-137.624540</td>\n",
       "      <td>906.704678</td>\n",
       "      <td>-8019.0</td>\n",
       "      <td>-339.0</td>\n",
       "      <td>-7.0</td>\n",
       "      <td>15.00</td>\n",
       "      <td>16486.0</td>\n",
       "    </tr>\n",
       "  </tbody>\n",
       "</table>\n",
       "</div>"
      ],
      "text/plain": [
       "             age                                                      balance  \\\n",
       "           count       mean        std   min   25%   50%   75%   max    count   \n",
       "default                                                                         \n",
       "False    44396.0  40.961934  10.638882  18.0  33.0  39.0  48.0  95.0  44396.0   \n",
       "True       815.0  39.534969   9.357804  21.0  32.0  38.0  47.0  71.0    815.0   \n",
       "\n",
       "                                                                            \n",
       "                mean          std     min    25%    50%      75%       max  \n",
       "default                                                                     \n",
       "False    1389.806424  3063.275425 -4057.0   84.0  468.0  1462.25  102127.0  \n",
       "True     -137.624540   906.704678 -8019.0 -339.0   -7.0    15.00   16486.0  "
      ]
     },
     "execution_count": 18,
     "metadata": {},
     "output_type": "execute_result"
    }
   ],
   "source": [
    "df.groupby(\"default\")[[\"age\", \"balance\"]].describe()"
   ]
  },
  {
   "cell_type": "code",
   "execution_count": 19,
   "metadata": {},
   "outputs": [
    {
     "data": {
      "text/plain": [
       "<matplotlib.axes._subplots.AxesSubplot at 0x29a38763390>"
      ]
     },
     "execution_count": 19,
     "metadata": {},
     "output_type": "execute_result"
    },
    {
     "data": {
      "image/png": "[encoded data removed]",
      "text/plain": [
       "<Figure size 576x432 with 1 Axes>"
      ]
     },
     "metadata": {
      "needs_background": "light"
     },
     "output_type": "display_data"
    }
   ],
   "source": [
    "plt.figure(figsize=(8, 6))\n",
    "sns.scatterplot(\"age\", \"balance\", hue=\"default\", data=df.sort_values(\"default\"), sizes=[1, 10])"
   ]
  },
  {
   "cell_type": "code",
   "execution_count": 20,
   "metadata": {},
   "outputs": [
    {
     "data": {
      "text/html": [
       "<style  type=\"text/css\" >\n",
       "</style><table id=\"T_77ee7fe4_1552_11ea_9ab8_5cc9d3ab3042\" ><thead>    <tr>        <th class=\"blank level0\" ></th>        <th class=\"col_heading level0 col0\" >default</th>    </tr>    <tr>        <th class=\"index_name level0\" >job</th>        <th class=\"blank\" ></th>    </tr></thead><tbody>\n",
       "                <tr>\n",
       "                        <th id=\"T_77ee7fe4_1552_11ea_9ab8_5cc9d3ab3042level0_row0\" class=\"row_heading level0 row0\" >entrepreneur</th>\n",
       "                        <td id=\"T_77ee7fe4_1552_11ea_9ab8_5cc9d3ab3042row0_col0\" class=\"data row0 col0\" >3.70%</td>\n",
       "            </tr>\n",
       "            <tr>\n",
       "                        <th id=\"T_77ee7fe4_1552_11ea_9ab8_5cc9d3ab3042level0_row1\" class=\"row_heading level0 row1\" >unemployed</th>\n",
       "                        <td id=\"T_77ee7fe4_1552_11ea_9ab8_5cc9d3ab3042row1_col0\" class=\"data row1 col0\" >2.30%</td>\n",
       "            </tr>\n",
       "            <tr>\n",
       "                        <th id=\"T_77ee7fe4_1552_11ea_9ab8_5cc9d3ab3042level0_row2\" class=\"row_heading level0 row2\" >self-employed</th>\n",
       "                        <td id=\"T_77ee7fe4_1552_11ea_9ab8_5cc9d3ab3042row2_col0\" class=\"data row2 col0\" >2.09%</td>\n",
       "            </tr>\n",
       "            <tr>\n",
       "                        <th id=\"T_77ee7fe4_1552_11ea_9ab8_5cc9d3ab3042level0_row3\" class=\"row_heading level0 row3\" >blue-collar</th>\n",
       "                        <td id=\"T_77ee7fe4_1552_11ea_9ab8_5cc9d3ab3042row3_col0\" class=\"data row3 col0\" >2.07%</td>\n",
       "            </tr>\n",
       "            <tr>\n",
       "                        <th id=\"T_77ee7fe4_1552_11ea_9ab8_5cc9d3ab3042level0_row4\" class=\"row_heading level0 row4\" >services</th>\n",
       "                        <td id=\"T_77ee7fe4_1552_11ea_9ab8_5cc9d3ab3042row4_col0\" class=\"data row4 col0\" >1.81%</td>\n",
       "            </tr>\n",
       "            <tr>\n",
       "                        <th id=\"T_77ee7fe4_1552_11ea_9ab8_5cc9d3ab3042level0_row5\" class=\"row_heading level0 row5\" >housemaid</th>\n",
       "                        <td id=\"T_77ee7fe4_1552_11ea_9ab8_5cc9d3ab3042row5_col0\" class=\"data row5 col0\" >1.77%</td>\n",
       "            </tr>\n",
       "            <tr>\n",
       "                        <th id=\"T_77ee7fe4_1552_11ea_9ab8_5cc9d3ab3042level0_row6\" class=\"row_heading level0 row6\" >management</th>\n",
       "                        <td id=\"T_77ee7fe4_1552_11ea_9ab8_5cc9d3ab3042row6_col0\" class=\"data row6 col0\" >1.73%</td>\n",
       "            </tr>\n",
       "            <tr>\n",
       "                        <th id=\"T_77ee7fe4_1552_11ea_9ab8_5cc9d3ab3042level0_row7\" class=\"row_heading level0 row7\" >technician</th>\n",
       "                        <td id=\"T_77ee7fe4_1552_11ea_9ab8_5cc9d3ab3042row7_col0\" class=\"data row7 col0\" >1.71%</td>\n",
       "            </tr>\n",
       "            <tr>\n",
       "                        <th id=\"T_77ee7fe4_1552_11ea_9ab8_5cc9d3ab3042level0_row8\" class=\"row_heading level0 row8\" >admin.</th>\n",
       "                        <td id=\"T_77ee7fe4_1552_11ea_9ab8_5cc9d3ab3042row8_col0\" class=\"data row8 col0\" >1.43%</td>\n",
       "            </tr>\n",
       "            <tr>\n",
       "                        <th id=\"T_77ee7fe4_1552_11ea_9ab8_5cc9d3ab3042level0_row9\" class=\"row_heading level0 row9\" >retired</th>\n",
       "                        <td id=\"T_77ee7fe4_1552_11ea_9ab8_5cc9d3ab3042row9_col0\" class=\"data row9 col0\" >1.15%</td>\n",
       "            </tr>\n",
       "            <tr>\n",
       "                        <th id=\"T_77ee7fe4_1552_11ea_9ab8_5cc9d3ab3042level0_row10\" class=\"row_heading level0 row10\" >unknown</th>\n",
       "                        <td id=\"T_77ee7fe4_1552_11ea_9ab8_5cc9d3ab3042row10_col0\" class=\"data row10 col0\" >0.69%</td>\n",
       "            </tr>\n",
       "            <tr>\n",
       "                        <th id=\"T_77ee7fe4_1552_11ea_9ab8_5cc9d3ab3042level0_row11\" class=\"row_heading level0 row11\" >student</th>\n",
       "                        <td id=\"T_77ee7fe4_1552_11ea_9ab8_5cc9d3ab3042row11_col0\" class=\"data row11 col0\" >0.32%</td>\n",
       "            </tr>\n",
       "    </tbody></table>"
      ],
      "text/plain": [
       "<pandas.io.formats.style.Styler at 0x29a386fd278>"
      ]
     },
     "execution_count": 20,
     "metadata": {},
     "output_type": "execute_result"
    }
   ],
   "source": [
    "df.groupby(\"job\").default.mean().to_frame().sort_values(\"default\", ascending=False).style.format(\"{:.2%}\")"
   ]
  },
  {
   "cell_type": "code",
   "execution_count": 21,
   "metadata": {},
   "outputs": [
    {
     "data": {
      "text/html": [
       "<style  type=\"text/css\" >\n",
       "</style><table id=\"T_77f29bb6_1552_11ea_b911_5cc9d3ab3042\" ><thead>    <tr>        <th class=\"blank level0\" ></th>        <th class=\"col_heading level0 col0\" >default</th>    </tr>    <tr>        <th class=\"index_name level0\" >education</th>        <th class=\"blank\" ></th>    </tr></thead><tbody>\n",
       "                <tr>\n",
       "                        <th id=\"T_77f29bb6_1552_11ea_b911_5cc9d3ab3042level0_row0\" class=\"row_heading level0 row0\" >secondary</th>\n",
       "                        <td id=\"T_77f29bb6_1552_11ea_b911_5cc9d3ab3042row0_col0\" class=\"data row0 col0\" >1.97%</td>\n",
       "            </tr>\n",
       "            <tr>\n",
       "                        <th id=\"T_77f29bb6_1552_11ea_b911_5cc9d3ab3042level0_row1\" class=\"row_heading level0 row1\" >primary</th>\n",
       "                        <td id=\"T_77f29bb6_1552_11ea_b911_5cc9d3ab3042row1_col0\" class=\"data row1 col0\" >1.85%</td>\n",
       "            </tr>\n",
       "            <tr>\n",
       "                        <th id=\"T_77f29bb6_1552_11ea_b911_5cc9d3ab3042level0_row2\" class=\"row_heading level0 row2\" >unknown</th>\n",
       "                        <td id=\"T_77f29bb6_1552_11ea_b911_5cc9d3ab3042row2_col0\" class=\"data row2 col0\" >1.72%</td>\n",
       "            </tr>\n",
       "            <tr>\n",
       "                        <th id=\"T_77f29bb6_1552_11ea_b911_5cc9d3ab3042level0_row3\" class=\"row_heading level0 row3\" >tertiary</th>\n",
       "                        <td id=\"T_77f29bb6_1552_11ea_b911_5cc9d3ab3042row3_col0\" class=\"data row3 col0\" >1.49%</td>\n",
       "            </tr>\n",
       "    </tbody></table>"
      ],
      "text/plain": [
       "<pandas.io.formats.style.Styler at 0x29a38c9bb70>"
      ]
     },
     "execution_count": 21,
     "metadata": {},
     "output_type": "execute_result"
    }
   ],
   "source": [
    "df.groupby(\"education\").default.mean().to_frame().sort_values(\"default\", ascending=False).style.format(\"{:.2%}\")"
   ]
  },
  {
   "cell_type": "code",
   "execution_count": 22,
   "metadata": {},
   "outputs": [
    {
     "data": {
      "text/html": [
       "<style  type=\"text/css\" >\n",
       "</style><table id=\"T_77f7a164_1552_11ea_8607_5cc9d3ab3042\" ><thead>    <tr>        <th class=\"blank level0\" ></th>        <th class=\"col_heading level0 col0\" >default</th>    </tr>    <tr>        <th class=\"index_name level0\" >marital</th>        <th class=\"blank\" ></th>    </tr></thead><tbody>\n",
       "                <tr>\n",
       "                        <th id=\"T_77f7a164_1552_11ea_8607_5cc9d3ab3042level0_row0\" class=\"row_heading level0 row0\" >divorced</th>\n",
       "                        <td id=\"T_77f7a164_1552_11ea_8607_5cc9d3ab3042row0_col0\" class=\"data row0 col0\" >2.46%</td>\n",
       "            </tr>\n",
       "            <tr>\n",
       "                        <th id=\"T_77f7a164_1552_11ea_8607_5cc9d3ab3042level0_row1\" class=\"row_heading level0 row1\" >single</th>\n",
       "                        <td id=\"T_77f7a164_1552_11ea_8607_5cc9d3ab3042row1_col0\" class=\"data row1 col0\" >1.87%</td>\n",
       "            </tr>\n",
       "            <tr>\n",
       "                        <th id=\"T_77f7a164_1552_11ea_8607_5cc9d3ab3042level0_row2\" class=\"row_heading level0 row2\" >married</th>\n",
       "                        <td id=\"T_77f7a164_1552_11ea_8607_5cc9d3ab3042row2_col0\" class=\"data row2 col0\" >1.65%</td>\n",
       "            </tr>\n",
       "    </tbody></table>"
      ],
      "text/plain": [
       "<pandas.io.formats.style.Styler at 0x29a38e1bc50>"
      ]
     },
     "execution_count": 22,
     "metadata": {},
     "output_type": "execute_result"
    }
   ],
   "source": [
    "df.groupby(\"marital\").default.mean().to_frame().sort_values(\"default\", ascending=False).style.format(\"{:.2%}\")"
   ]
  },
  {
   "cell_type": "code",
   "execution_count": 23,
   "metadata": {},
   "outputs": [
    {
     "data": {
      "text/html": [
       "<style  type=\"text/css\" >\n",
       "    #T_786b70a8_1552_11ea_847e_5cc9d3ab3042row0_col0 {\n",
       "            background-color:  #e5ffe5;\n",
       "            color:  #000000;\n",
       "        }    #T_786b70a8_1552_11ea_847e_5cc9d3ab3042row0_col1 {\n",
       "            background-color:  #e5ffe5;\n",
       "            color:  #000000;\n",
       "        }    #T_786b70a8_1552_11ea_847e_5cc9d3ab3042row0_col2 {\n",
       "            background-color:  #e5ffe5;\n",
       "            color:  #000000;\n",
       "        }    #T_786b70a8_1552_11ea_847e_5cc9d3ab3042row0_col3 {\n",
       "            background-color:  #81c781;\n",
       "            color:  #000000;\n",
       "        }    #T_786b70a8_1552_11ea_847e_5cc9d3ab3042row0_col4 {\n",
       "            background-color:  #9bd69b;\n",
       "            color:  #000000;\n",
       "        }    #T_786b70a8_1552_11ea_847e_5cc9d3ab3042row0_col5 {\n",
       "            background-color:  #b4e4b4;\n",
       "            color:  #000000;\n",
       "        }    #T_786b70a8_1552_11ea_847e_5cc9d3ab3042row0_col6 {\n",
       "            background-color:  #b0e2b0;\n",
       "            color:  #000000;\n",
       "        }    #T_786b70a8_1552_11ea_847e_5cc9d3ab3042row0_col7 {\n",
       "            background-color:  #d1f4d1;\n",
       "            color:  #000000;\n",
       "        }    #T_786b70a8_1552_11ea_847e_5cc9d3ab3042row0_col8 {\n",
       "            background-color:  #e5ffe5;\n",
       "            color:  #000000;\n",
       "        }    #T_786b70a8_1552_11ea_847e_5cc9d3ab3042row0_col9 {\n",
       "            background-color:  #e5ffe5;\n",
       "            color:  #000000;\n",
       "        }    #T_786b70a8_1552_11ea_847e_5cc9d3ab3042row0_col10 {\n",
       "            background-color:  #69ba69;\n",
       "            color:  #000000;\n",
       "        }    #T_786b70a8_1552_11ea_847e_5cc9d3ab3042row0_col11 {\n",
       "            background-color:  #008000;\n",
       "            color:  #f1f1f1;\n",
       "        }    #T_786b70a8_1552_11ea_847e_5cc9d3ab3042row1_col0 {\n",
       "            background-color:  #9ed89e;\n",
       "            color:  #000000;\n",
       "        }    #T_786b70a8_1552_11ea_847e_5cc9d3ab3042row1_col1 {\n",
       "            background-color:  #81c781;\n",
       "            color:  #000000;\n",
       "        }    #T_786b70a8_1552_11ea_847e_5cc9d3ab3042row1_col2 {\n",
       "            background-color:  #b3e3b3;\n",
       "            color:  #000000;\n",
       "        }    #T_786b70a8_1552_11ea_847e_5cc9d3ab3042row1_col3 {\n",
       "            background-color:  #69ba69;\n",
       "            color:  #000000;\n",
       "        }    #T_786b70a8_1552_11ea_847e_5cc9d3ab3042row1_col4 {\n",
       "            background-color:  #96d396;\n",
       "            color:  #000000;\n",
       "        }    #T_786b70a8_1552_11ea_847e_5cc9d3ab3042row1_col5 {\n",
       "            background-color:  #65b865;\n",
       "            color:  #000000;\n",
       "        }    #T_786b70a8_1552_11ea_847e_5cc9d3ab3042row1_col6 {\n",
       "            background-color:  #e5ffe5;\n",
       "            color:  #000000;\n",
       "        }    #T_786b70a8_1552_11ea_847e_5cc9d3ab3042row1_col7 {\n",
       "            background-color:  #3da23d;\n",
       "            color:  #000000;\n",
       "        }    #T_786b70a8_1552_11ea_847e_5cc9d3ab3042row1_col8 {\n",
       "            background-color:  #c2ebc2;\n",
       "            color:  #000000;\n",
       "        }    #T_786b70a8_1552_11ea_847e_5cc9d3ab3042row1_col9 {\n",
       "            background-color:  #7bc47b;\n",
       "            color:  #000000;\n",
       "        }    #T_786b70a8_1552_11ea_847e_5cc9d3ab3042row1_col10 {\n",
       "            background-color:  #92d192;\n",
       "            color:  #000000;\n",
       "        }    #T_786b70a8_1552_11ea_847e_5cc9d3ab3042row1_col11 {\n",
       "            background-color:  #57b057;\n",
       "            color:  #000000;\n",
       "        }    #T_786b70a8_1552_11ea_847e_5cc9d3ab3042row2_col0 {\n",
       "            background-color:  #008000;\n",
       "            color:  #f1f1f1;\n",
       "        }    #T_786b70a8_1552_11ea_847e_5cc9d3ab3042row2_col1 {\n",
       "            background-color:  #6dbc6d;\n",
       "            color:  #000000;\n",
       "        }    #T_786b70a8_1552_11ea_847e_5cc9d3ab3042row2_col2 {\n",
       "            background-color:  #6cbc6c;\n",
       "            color:  #000000;\n",
       "        }    #T_786b70a8_1552_11ea_847e_5cc9d3ab3042row2_col3 {\n",
       "            background-color:  #a5dba5;\n",
       "            color:  #000000;\n",
       "        }    #T_786b70a8_1552_11ea_847e_5cc9d3ab3042row2_col4 {\n",
       "            background-color:  #008000;\n",
       "            color:  #f1f1f1;\n",
       "        }    #T_786b70a8_1552_11ea_847e_5cc9d3ab3042row2_col5 {\n",
       "            background-color:  #86ca86;\n",
       "            color:  #000000;\n",
       "        }    #T_786b70a8_1552_11ea_847e_5cc9d3ab3042row2_col6 {\n",
       "            background-color:  #8dce8d;\n",
       "            color:  #000000;\n",
       "        }    #T_786b70a8_1552_11ea_847e_5cc9d3ab3042row2_col7 {\n",
       "            background-color:  #55af55;\n",
       "            color:  #000000;\n",
       "        }    #T_786b70a8_1552_11ea_847e_5cc9d3ab3042row2_col8 {\n",
       "            background-color:  #008000;\n",
       "            color:  #f1f1f1;\n",
       "        }    #T_786b70a8_1552_11ea_847e_5cc9d3ab3042row2_col9 {\n",
       "            background-color:  #008000;\n",
       "            color:  #f1f1f1;\n",
       "        }    #T_786b70a8_1552_11ea_847e_5cc9d3ab3042row2_col10 {\n",
       "            background-color:  #008000;\n",
       "            color:  #f1f1f1;\n",
       "        }    #T_786b70a8_1552_11ea_847e_5cc9d3ab3042row2_col11 {\n",
       "            background-color:  #e5ffe5;\n",
       "            color:  #000000;\n",
       "        }    #T_786b70a8_1552_11ea_847e_5cc9d3ab3042row3_col0 {\n",
       "            background-color:  #b8e6b8;\n",
       "            color:  #000000;\n",
       "        }    #T_786b70a8_1552_11ea_847e_5cc9d3ab3042row3_col1 {\n",
       "            background-color:  #8dce8d;\n",
       "            color:  #000000;\n",
       "        }    #T_786b70a8_1552_11ea_847e_5cc9d3ab3042row3_col2 {\n",
       "            background-color:  #b2e3b2;\n",
       "            color:  #000000;\n",
       "        }    #T_786b70a8_1552_11ea_847e_5cc9d3ab3042row3_col3 {\n",
       "            background-color:  #69ba69;\n",
       "            color:  #000000;\n",
       "        }    #T_786b70a8_1552_11ea_847e_5cc9d3ab3042row3_col4 {\n",
       "            background-color:  #60b560;\n",
       "            color:  #000000;\n",
       "        }    #T_786b70a8_1552_11ea_847e_5cc9d3ab3042row3_col5 {\n",
       "            background-color:  #a7dda7;\n",
       "            color:  #000000;\n",
       "        }    #T_786b70a8_1552_11ea_847e_5cc9d3ab3042row3_col6 {\n",
       "            background-color:  #e5ffe5;\n",
       "            color:  #000000;\n",
       "        }    #T_786b70a8_1552_11ea_847e_5cc9d3ab3042row3_col7 {\n",
       "            background-color:  #b9e7b9;\n",
       "            color:  #000000;\n",
       "        }    #T_786b70a8_1552_11ea_847e_5cc9d3ab3042row3_col8 {\n",
       "            background-color:  #e5ffe5;\n",
       "            color:  #000000;\n",
       "        }    #T_786b70a8_1552_11ea_847e_5cc9d3ab3042row3_col9 {\n",
       "            background-color:  #e5ffe5;\n",
       "            color:  #000000;\n",
       "        }    #T_786b70a8_1552_11ea_847e_5cc9d3ab3042row3_col10 {\n",
       "            background-color:  #1c8f1c;\n",
       "            color:  #000000;\n",
       "        }    #T_786b70a8_1552_11ea_847e_5cc9d3ab3042row3_col11 {\n",
       "            background-color:  #e5ffe5;\n",
       "            color:  #000000;\n",
       "        }    #T_786b70a8_1552_11ea_847e_5cc9d3ab3042row4_col0 {\n",
       "            background-color:  #96d396;\n",
       "            color:  #000000;\n",
       "        }    #T_786b70a8_1552_11ea_847e_5cc9d3ab3042row4_col1 {\n",
       "            background-color:  #4eab4e;\n",
       "            color:  #000000;\n",
       "        }    #T_786b70a8_1552_11ea_847e_5cc9d3ab3042row4_col2 {\n",
       "            background-color:  #008000;\n",
       "            color:  #f1f1f1;\n",
       "        }    #T_786b70a8_1552_11ea_847e_5cc9d3ab3042row4_col3 {\n",
       "            background-color:  #a6dca6;\n",
       "            color:  #000000;\n",
       "        }    #T_786b70a8_1552_11ea_847e_5cc9d3ab3042row4_col4 {\n",
       "            background-color:  #58b158;\n",
       "            color:  #000000;\n",
       "        }    #T_786b70a8_1552_11ea_847e_5cc9d3ab3042row4_col5 {\n",
       "            background-color:  #88cb88;\n",
       "            color:  #000000;\n",
       "        }    #T_786b70a8_1552_11ea_847e_5cc9d3ab3042row4_col6 {\n",
       "            background-color:  #9bd69b;\n",
       "            color:  #000000;\n",
       "        }    #T_786b70a8_1552_11ea_847e_5cc9d3ab3042row4_col7 {\n",
       "            background-color:  #97d497;\n",
       "            color:  #000000;\n",
       "        }    #T_786b70a8_1552_11ea_847e_5cc9d3ab3042row4_col8 {\n",
       "            background-color:  #c1ebc1;\n",
       "            color:  #000000;\n",
       "        }    #T_786b70a8_1552_11ea_847e_5cc9d3ab3042row4_col9 {\n",
       "            background-color:  #e5ffe5;\n",
       "            color:  #000000;\n",
       "        }    #T_786b70a8_1552_11ea_847e_5cc9d3ab3042row4_col10 {\n",
       "            background-color:  #69ba69;\n",
       "            color:  #000000;\n",
       "        }    #T_786b70a8_1552_11ea_847e_5cc9d3ab3042row4_col11 {\n",
       "            background-color:  #9fd89f;\n",
       "            color:  #000000;\n",
       "        }    #T_786b70a8_1552_11ea_847e_5cc9d3ab3042row5_col0 {\n",
       "            background-color:  #d9f8d9;\n",
       "            color:  #000000;\n",
       "        }    #T_786b70a8_1552_11ea_847e_5cc9d3ab3042row5_col1 {\n",
       "            background-color:  #93d193;\n",
       "            color:  #000000;\n",
       "        }    #T_786b70a8_1552_11ea_847e_5cc9d3ab3042row5_col2 {\n",
       "            background-color:  #e5ffe5;\n",
       "            color:  #000000;\n",
       "        }    #T_786b70a8_1552_11ea_847e_5cc9d3ab3042row5_col3 {\n",
       "            background-color:  #96d396;\n",
       "            color:  #000000;\n",
       "        }    #T_786b70a8_1552_11ea_847e_5cc9d3ab3042row5_col4 {\n",
       "            background-color:  #aadeaa;\n",
       "            color:  #000000;\n",
       "        }    #T_786b70a8_1552_11ea_847e_5cc9d3ab3042row5_col5 {\n",
       "            background-color:  #008000;\n",
       "            color:  #f1f1f1;\n",
       "        }    #T_786b70a8_1552_11ea_847e_5cc9d3ab3042row5_col6 {\n",
       "            background-color:  #c4edc4;\n",
       "            color:  #000000;\n",
       "        }    #T_786b70a8_1552_11ea_847e_5cc9d3ab3042row5_col7 {\n",
       "            background-color:  #e5ffe5;\n",
       "            color:  #000000;\n",
       "        }    #T_786b70a8_1552_11ea_847e_5cc9d3ab3042row5_col8 {\n",
       "            background-color:  #e5ffe5;\n",
       "            color:  #000000;\n",
       "        }    #T_786b70a8_1552_11ea_847e_5cc9d3ab3042row5_col9 {\n",
       "            background-color:  #e5ffe5;\n",
       "            color:  #000000;\n",
       "        }    #T_786b70a8_1552_11ea_847e_5cc9d3ab3042row5_col10 {\n",
       "            background-color:  #a4dba4;\n",
       "            color:  #000000;\n",
       "        }    #T_786b70a8_1552_11ea_847e_5cc9d3ab3042row5_col11 {\n",
       "            background-color:  #e5ffe5;\n",
       "            color:  #000000;\n",
       "        }    #T_786b70a8_1552_11ea_847e_5cc9d3ab3042row6_col0 {\n",
       "            background-color:  #e5ffe5;\n",
       "            color:  #000000;\n",
       "        }    #T_786b70a8_1552_11ea_847e_5cc9d3ab3042row6_col1 {\n",
       "            background-color:  #aee0ae;\n",
       "            color:  #000000;\n",
       "        }    #T_786b70a8_1552_11ea_847e_5cc9d3ab3042row6_col2 {\n",
       "            background-color:  #e5ffe5;\n",
       "            color:  #000000;\n",
       "        }    #T_786b70a8_1552_11ea_847e_5cc9d3ab3042row6_col3 {\n",
       "            background-color:  #008000;\n",
       "            color:  #f1f1f1;\n",
       "        }    #T_786b70a8_1552_11ea_847e_5cc9d3ab3042row6_col4 {\n",
       "            background-color:  #289628;\n",
       "            color:  #000000;\n",
       "        }    #T_786b70a8_1552_11ea_847e_5cc9d3ab3042row6_col5 {\n",
       "            background-color:  #c7eec7;\n",
       "            color:  #000000;\n",
       "        }    #T_786b70a8_1552_11ea_847e_5cc9d3ab3042row6_col6 {\n",
       "            background-color:  #74c074;\n",
       "            color:  #000000;\n",
       "        }    #T_786b70a8_1552_11ea_847e_5cc9d3ab3042row6_col7 {\n",
       "            background-color:  #8bcd8b;\n",
       "            color:  #000000;\n",
       "        }    #T_786b70a8_1552_11ea_847e_5cc9d3ab3042row6_col8 {\n",
       "            background-color:  #d2f4d2;\n",
       "            color:  #000000;\n",
       "        }    #T_786b70a8_1552_11ea_847e_5cc9d3ab3042row6_col9 {\n",
       "            background-color:  #e5ffe5;\n",
       "            color:  #000000;\n",
       "        }    #T_786b70a8_1552_11ea_847e_5cc9d3ab3042row6_col10 {\n",
       "            background-color:  #e5ffe5;\n",
       "            color:  #000000;\n",
       "        }    #T_786b70a8_1552_11ea_847e_5cc9d3ab3042row6_col11 {\n",
       "            background-color:  #e5ffe5;\n",
       "            color:  #000000;\n",
       "        }    #T_786b70a8_1552_11ea_847e_5cc9d3ab3042row7_col0 {\n",
       "            background-color:  #7ec67e;\n",
       "            color:  #000000;\n",
       "        }    #T_786b70a8_1552_11ea_847e_5cc9d3ab3042row7_col1 {\n",
       "            background-color:  #7ac37a;\n",
       "            color:  #000000;\n",
       "        }    #T_786b70a8_1552_11ea_847e_5cc9d3ab3042row7_col2 {\n",
       "            background-color:  #92d192;\n",
       "            color:  #000000;\n",
       "        }    #T_786b70a8_1552_11ea_847e_5cc9d3ab3042row7_col3 {\n",
       "            background-color:  #99d599;\n",
       "            color:  #000000;\n",
       "        }    #T_786b70a8_1552_11ea_847e_5cc9d3ab3042row7_col4 {\n",
       "            background-color:  #95d395;\n",
       "            color:  #000000;\n",
       "        }    #T_786b70a8_1552_11ea_847e_5cc9d3ab3042row7_col5 {\n",
       "            background-color:  #9bd69b;\n",
       "            color:  #000000;\n",
       "        }    #T_786b70a8_1552_11ea_847e_5cc9d3ab3042row7_col6 {\n",
       "            background-color:  #e5ffe5;\n",
       "            color:  #000000;\n",
       "        }    #T_786b70a8_1552_11ea_847e_5cc9d3ab3042row7_col7 {\n",
       "            background-color:  #afe1af;\n",
       "            color:  #000000;\n",
       "        }    #T_786b70a8_1552_11ea_847e_5cc9d3ab3042row7_col8 {\n",
       "            background-color:  #c6eec6;\n",
       "            color:  #000000;\n",
       "        }    #T_786b70a8_1552_11ea_847e_5cc9d3ab3042row7_col9 {\n",
       "            background-color:  #e5ffe5;\n",
       "            color:  #000000;\n",
       "        }    #T_786b70a8_1552_11ea_847e_5cc9d3ab3042row7_col10 {\n",
       "            background-color:  #58b158;\n",
       "            color:  #000000;\n",
       "        }    #T_786b70a8_1552_11ea_847e_5cc9d3ab3042row7_col11 {\n",
       "            background-color:  #81c781;\n",
       "            color:  #000000;\n",
       "        }    #T_786b70a8_1552_11ea_847e_5cc9d3ab3042row8_col0 {\n",
       "            background-color:  #e5ffe5;\n",
       "            color:  #000000;\n",
       "        }    #T_786b70a8_1552_11ea_847e_5cc9d3ab3042row8_col1 {\n",
       "            background-color:  #e5ffe5;\n",
       "            color:  #000000;\n",
       "        }    #T_786b70a8_1552_11ea_847e_5cc9d3ab3042row8_col2 {\n",
       "            background-color:  #b0e2b0;\n",
       "            color:  #000000;\n",
       "        }    #T_786b70a8_1552_11ea_847e_5cc9d3ab3042row8_col3 {\n",
       "            background-color:  #e5ffe5;\n",
       "            color:  #000000;\n",
       "        }    #T_786b70a8_1552_11ea_847e_5cc9d3ab3042row8_col4 {\n",
       "            background-color:  #e5ffe5;\n",
       "            color:  #000000;\n",
       "        }    #T_786b70a8_1552_11ea_847e_5cc9d3ab3042row8_col5 {\n",
       "            background-color:  #e5ffe5;\n",
       "            color:  #000000;\n",
       "        }    #T_786b70a8_1552_11ea_847e_5cc9d3ab3042row8_col6 {\n",
       "            background-color:  #e5ffe5;\n",
       "            color:  #000000;\n",
       "        }    #T_786b70a8_1552_11ea_847e_5cc9d3ab3042row8_col7 {\n",
       "            background-color:  #008000;\n",
       "            color:  #f1f1f1;\n",
       "        }    #T_786b70a8_1552_11ea_847e_5cc9d3ab3042row8_col8 {\n",
       "            background-color:  #d6f7d6;\n",
       "            color:  #000000;\n",
       "        }    #T_786b70a8_1552_11ea_847e_5cc9d3ab3042row8_col9 {\n",
       "            background-color:  #e5ffe5;\n",
       "            color:  #000000;\n",
       "        }    #T_786b70a8_1552_11ea_847e_5cc9d3ab3042row8_col10 {\n",
       "            background-color:  #e5ffe5;\n",
       "            color:  #000000;\n",
       "        }    #T_786b70a8_1552_11ea_847e_5cc9d3ab3042row8_col11 {\n",
       "            background-color:  #e5ffe5;\n",
       "            color:  #000000;\n",
       "        }    #T_786b70a8_1552_11ea_847e_5cc9d3ab3042row9_col0 {\n",
       "            background-color:  #e5ffe5;\n",
       "            color:  #000000;\n",
       "        }    #T_786b70a8_1552_11ea_847e_5cc9d3ab3042row9_col1 {\n",
       "            background-color:  #82c882;\n",
       "            color:  #000000;\n",
       "        }    #T_786b70a8_1552_11ea_847e_5cc9d3ab3042row9_col2 {\n",
       "            background-color:  #e5ffe5;\n",
       "            color:  #000000;\n",
       "        }    #T_786b70a8_1552_11ea_847e_5cc9d3ab3042row9_col3 {\n",
       "            background-color:  #7dc57d;\n",
       "            color:  #000000;\n",
       "        }    #T_786b70a8_1552_11ea_847e_5cc9d3ab3042row9_col4 {\n",
       "            background-color:  #95d395;\n",
       "            color:  #000000;\n",
       "        }    #T_786b70a8_1552_11ea_847e_5cc9d3ab3042row9_col5 {\n",
       "            background-color:  #8fcf8f;\n",
       "            color:  #000000;\n",
       "        }    #T_786b70a8_1552_11ea_847e_5cc9d3ab3042row9_col6 {\n",
       "            background-color:  #a4dba4;\n",
       "            color:  #000000;\n",
       "        }    #T_786b70a8_1552_11ea_847e_5cc9d3ab3042row9_col7 {\n",
       "            background-color:  #aee0ae;\n",
       "            color:  #000000;\n",
       "        }    #T_786b70a8_1552_11ea_847e_5cc9d3ab3042row9_col8 {\n",
       "            background-color:  #caf0ca;\n",
       "            color:  #000000;\n",
       "        }    #T_786b70a8_1552_11ea_847e_5cc9d3ab3042row9_col9 {\n",
       "            background-color:  #afe1af;\n",
       "            color:  #000000;\n",
       "        }    #T_786b70a8_1552_11ea_847e_5cc9d3ab3042row9_col10 {\n",
       "            background-color:  #8bcd8b;\n",
       "            color:  #000000;\n",
       "        }    #T_786b70a8_1552_11ea_847e_5cc9d3ab3042row9_col11 {\n",
       "            background-color:  #e5ffe5;\n",
       "            color:  #000000;\n",
       "        }    #T_786b70a8_1552_11ea_847e_5cc9d3ab3042row10_col0 {\n",
       "            background-color:  #4daa4d;\n",
       "            color:  #000000;\n",
       "        }    #T_786b70a8_1552_11ea_847e_5cc9d3ab3042row10_col1 {\n",
       "            background-color:  #008000;\n",
       "            color:  #f1f1f1;\n",
       "        }    #T_786b70a8_1552_11ea_847e_5cc9d3ab3042row10_col2 {\n",
       "            background-color:  #82c882;\n",
       "            color:  #000000;\n",
       "        }    #T_786b70a8_1552_11ea_847e_5cc9d3ab3042row10_col3 {\n",
       "            background-color:  #9cd69c;\n",
       "            color:  #000000;\n",
       "        }    #T_786b70a8_1552_11ea_847e_5cc9d3ab3042row10_col4 {\n",
       "            background-color:  #78c278;\n",
       "            color:  #000000;\n",
       "        }    #T_786b70a8_1552_11ea_847e_5cc9d3ab3042row10_col5 {\n",
       "            background-color:  #9dd79d;\n",
       "            color:  #000000;\n",
       "        }    #T_786b70a8_1552_11ea_847e_5cc9d3ab3042row10_col6 {\n",
       "            background-color:  #008000;\n",
       "            color:  #f1f1f1;\n",
       "        }    #T_786b70a8_1552_11ea_847e_5cc9d3ab3042row10_col7 {\n",
       "            background-color:  #e5ffe5;\n",
       "            color:  #000000;\n",
       "        }    #T_786b70a8_1552_11ea_847e_5cc9d3ab3042row10_col8 {\n",
       "            background-color:  #b8e6b8;\n",
       "            color:  #000000;\n",
       "        }    #T_786b70a8_1552_11ea_847e_5cc9d3ab3042row10_col9 {\n",
       "            background-color:  #e5ffe5;\n",
       "            color:  #000000;\n",
       "        }    #T_786b70a8_1552_11ea_847e_5cc9d3ab3042row10_col10 {\n",
       "            background-color:  #e5ffe5;\n",
       "            color:  #000000;\n",
       "        }    #T_786b70a8_1552_11ea_847e_5cc9d3ab3042row10_col11 {\n",
       "            background-color:  #e5ffe5;\n",
       "            color:  #000000;\n",
       "        }    #T_786b70a8_1552_11ea_847e_5cc9d3ab3042row11_col0 {\n",
       "            background-color:  #e5ffe5;\n",
       "            color:  #000000;\n",
       "        }    #T_786b70a8_1552_11ea_847e_5cc9d3ab3042row11_col1 {\n",
       "            background-color:  #e5ffe5;\n",
       "            color:  #000000;\n",
       "        }    #T_786b70a8_1552_11ea_847e_5cc9d3ab3042row11_col2 {\n",
       "            background-color:  #e5ffe5;\n",
       "            color:  #000000;\n",
       "        }    #T_786b70a8_1552_11ea_847e_5cc9d3ab3042row11_col3 {\n",
       "            background-color:  #e5ffe5;\n",
       "            color:  #000000;\n",
       "        }    #T_786b70a8_1552_11ea_847e_5cc9d3ab3042row11_col4 {\n",
       "            background-color:  #70be70;\n",
       "            color:  #000000;\n",
       "        }    #T_786b70a8_1552_11ea_847e_5cc9d3ab3042row11_col5 {\n",
       "            background-color:  #e5ffe5;\n",
       "            color:  #000000;\n",
       "        }    #T_786b70a8_1552_11ea_847e_5cc9d3ab3042row11_col6 {\n",
       "            background-color:  #e5ffe5;\n",
       "            color:  #000000;\n",
       "        }    #T_786b70a8_1552_11ea_847e_5cc9d3ab3042row11_col7 {\n",
       "            background-color:  #e5ffe5;\n",
       "            color:  #000000;\n",
       "        }    #T_786b70a8_1552_11ea_847e_5cc9d3ab3042row11_col8 {\n",
       "            background-color:  #e5ffe5;\n",
       "            color:  #000000;\n",
       "        }    #T_786b70a8_1552_11ea_847e_5cc9d3ab3042row11_col9 {\n",
       "            background-color:  #e5ffe5;\n",
       "            color:  #000000;\n",
       "        }    #T_786b70a8_1552_11ea_847e_5cc9d3ab3042row11_col10 {\n",
       "            background-color:  #e5ffe5;\n",
       "            color:  #000000;\n",
       "        }    #T_786b70a8_1552_11ea_847e_5cc9d3ab3042row11_col11 {\n",
       "            background-color:  #58b158;\n",
       "            color:  #000000;\n",
       "        }</style><table id=\"T_786b70a8_1552_11ea_847e_5cc9d3ab3042\" ><thead>    <tr>        <th class=\"blank level0\" ></th>        <th class=\"col_heading level0 col0\" colspan=12>default</th>    </tr>    <tr>        <th class=\"index_name level1\" >education</th>        <th class=\"col_heading level1 col0\" colspan=3>primary</th>        <th class=\"col_heading level1 col3\" colspan=3>secondary</th>        <th class=\"col_heading level1 col6\" colspan=3>tertiary</th>        <th class=\"col_heading level1 col9\" colspan=3>unknown</th>    </tr>    <tr>        <th class=\"index_name level2\" >marital</th>        <th class=\"col_heading level2 col0\" >divorced</th>        <th class=\"col_heading level2 col1\" >married</th>        <th class=\"col_heading level2 col2\" >single</th>        <th class=\"col_heading level2 col3\" >divorced</th>        <th class=\"col_heading level2 col4\" >married</th>        <th class=\"col_heading level2 col5\" >single</th>        <th class=\"col_heading level2 col6\" >divorced</th>        <th class=\"col_heading level2 col7\" >married</th>        <th class=\"col_heading level2 col8\" >single</th>        <th class=\"col_heading level2 col9\" >divorced</th>        <th class=\"col_heading level2 col10\" >married</th>        <th class=\"col_heading level2 col11\" >single</th>    </tr>    <tr>        <th class=\"index_name level0\" >job</th>        <th class=\"blank\" ></th>        <th class=\"blank\" ></th>        <th class=\"blank\" ></th>        <th class=\"blank\" ></th>        <th class=\"blank\" ></th>        <th class=\"blank\" ></th>        <th class=\"blank\" ></th>        <th class=\"blank\" ></th>        <th class=\"blank\" ></th>        <th class=\"blank\" ></th>        <th class=\"blank\" ></th>        <th class=\"blank\" ></th>    </tr></thead><tbody>\n",
       "                <tr>\n",
       "                        <th id=\"T_786b70a8_1552_11ea_847e_5cc9d3ab3042level0_row0\" class=\"row_heading level0 row0\" >admin.</th>\n",
       "                        <td id=\"T_786b70a8_1552_11ea_847e_5cc9d3ab3042row0_col0\" class=\"data row0 col0\" >0.00%</td>\n",
       "                        <td id=\"T_786b70a8_1552_11ea_847e_5cc9d3ab3042row0_col1\" class=\"data row0 col1\" >0.00%</td>\n",
       "                        <td id=\"T_786b70a8_1552_11ea_847e_5cc9d3ab3042row0_col2\" class=\"data row0 col2\" >0.00%</td>\n",
       "                        <td id=\"T_786b70a8_1552_11ea_847e_5cc9d3ab3042row0_col3\" class=\"data row0 col3\" >2.31%</td>\n",
       "                        <td id=\"T_786b70a8_1552_11ea_847e_5cc9d3ab3042row0_col4\" class=\"data row0 col4\" >1.46%</td>\n",
       "                        <td id=\"T_786b70a8_1552_11ea_847e_5cc9d3ab3042row0_col5\" class=\"data row0 col5\" >1.45%</td>\n",
       "                        <td id=\"T_786b70a8_1552_11ea_847e_5cc9d3ab3042row0_col6\" class=\"data row0 col6\" >1.85%</td>\n",
       "                        <td id=\"T_786b70a8_1552_11ea_847e_5cc9d3ab3042row0_col7\" class=\"data row0 col7\" >0.41%</td>\n",
       "                        <td id=\"T_786b70a8_1552_11ea_847e_5cc9d3ab3042row0_col8\" class=\"data row0 col8\" >0.00%</td>\n",
       "                        <td id=\"T_786b70a8_1552_11ea_847e_5cc9d3ab3042row0_col9\" class=\"data row0 col9\" >0.00%</td>\n",
       "                        <td id=\"T_786b70a8_1552_11ea_847e_5cc9d3ab3042row0_col10\" class=\"data row0 col10\" >1.87%</td>\n",
       "                        <td id=\"T_786b70a8_1552_11ea_847e_5cc9d3ab3042row0_col11\" class=\"data row0 col11\" >6.52%</td>\n",
       "            </tr>\n",
       "            <tr>\n",
       "                        <th id=\"T_786b70a8_1552_11ea_847e_5cc9d3ab3042level0_row1\" class=\"row_heading level0 row1\" >blue-collar</th>\n",
       "                        <td id=\"T_786b70a8_1552_11ea_847e_5cc9d3ab3042row1_col0\" class=\"data row1 col0\" >3.44%</td>\n",
       "                        <td id=\"T_786b70a8_1552_11ea_847e_5cc9d3ab3042row1_col1\" class=\"data row1 col1\" >1.61%</td>\n",
       "                        <td id=\"T_786b70a8_1552_11ea_847e_5cc9d3ab3042row1_col2\" class=\"data row1 col2\" >2.32%</td>\n",
       "                        <td id=\"T_786b70a8_1552_11ea_847e_5cc9d3ab3042row1_col3\" class=\"data row1 col3\" >2.84%</td>\n",
       "                        <td id=\"T_786b70a8_1552_11ea_847e_5cc9d3ab3042row1_col4\" class=\"data row1 col4\" >1.55%</td>\n",
       "                        <td id=\"T_786b70a8_1552_11ea_847e_5cc9d3ab3042row1_col5\" class=\"data row1 col5\" >3.73%</td>\n",
       "                        <td id=\"T_786b70a8_1552_11ea_847e_5cc9d3ab3042row1_col6\" class=\"data row1 col6\" >0.00%</td>\n",
       "                        <td id=\"T_786b70a8_1552_11ea_847e_5cc9d3ab3042row1_col7\" class=\"data row1 col7\" >3.33%</td>\n",
       "                        <td id=\"T_786b70a8_1552_11ea_847e_5cc9d3ab3042row1_col8\" class=\"data row1 col8\" >1.18%</td>\n",
       "                        <td id=\"T_786b70a8_1552_11ea_847e_5cc9d3ab3042row1_col9\" class=\"data row1 col9\" >7.69%</td>\n",
       "                        <td id=\"T_786b70a8_1552_11ea_847e_5cc9d3ab3042row1_col10\" class=\"data row1 col10\" >1.27%</td>\n",
       "                        <td id=\"T_786b70a8_1552_11ea_847e_5cc9d3ab3042row1_col11\" class=\"data row1 col11\" >4.04%</td>\n",
       "            </tr>\n",
       "            <tr>\n",
       "                        <th id=\"T_786b70a8_1552_11ea_847e_5cc9d3ab3042level0_row2\" class=\"row_heading level0 row2\" >entrepreneur</th>\n",
       "                        <td id=\"T_786b70a8_1552_11ea_847e_5cc9d3ab3042row2_col0\" class=\"data row2 col0\" >11.11%</td>\n",
       "                        <td id=\"T_786b70a8_1552_11ea_847e_5cc9d3ab3042row2_col1\" class=\"data row2 col1\" >1.92%</td>\n",
       "                        <td id=\"T_786b70a8_1552_11ea_847e_5cc9d3ab3042row2_col2\" class=\"data row2 col2\" >5.56%</td>\n",
       "                        <td id=\"T_786b70a8_1552_11ea_847e_5cc9d3ab3042row2_col3\" class=\"data row2 col3\" >1.49%</td>\n",
       "                        <td id=\"T_786b70a8_1552_11ea_847e_5cc9d3ab3042row2_col4\" class=\"data row2 col4\" >4.47%</td>\n",
       "                        <td id=\"T_786b70a8_1552_11ea_847e_5cc9d3ab3042row2_col5\" class=\"data row2 col5\" >2.78%</td>\n",
       "                        <td id=\"T_786b70a8_1552_11ea_847e_5cc9d3ab3042row2_col6\" class=\"data row2 col6\" >3.09%</td>\n",
       "                        <td id=\"T_786b70a8_1552_11ea_847e_5cc9d3ab3042row2_col7\" class=\"data row2 col7\" >2.87%</td>\n",
       "                        <td id=\"T_786b70a8_1552_11ea_847e_5cc9d3ab3042row2_col8\" class=\"data row2 col8\" >7.35%</td>\n",
       "                        <td id=\"T_786b70a8_1552_11ea_847e_5cc9d3ab3042row2_col9\" class=\"data row2 col9\" >16.67%</td>\n",
       "                        <td id=\"T_786b70a8_1552_11ea_847e_5cc9d3ab3042row2_col10\" class=\"data row2 col10\" >3.45%</td>\n",
       "                        <td id=\"T_786b70a8_1552_11ea_847e_5cc9d3ab3042row2_col11\" class=\"data row2 col11\" >0.00%</td>\n",
       "            </tr>\n",
       "            <tr>\n",
       "                        <th id=\"T_786b70a8_1552_11ea_847e_5cc9d3ab3042level0_row3\" class=\"row_heading level0 row3\" >housemaid</th>\n",
       "                        <td id=\"T_786b70a8_1552_11ea_847e_5cc9d3ab3042row3_col0\" class=\"data row3 col0\" >2.22%</td>\n",
       "                        <td id=\"T_786b70a8_1552_11ea_847e_5cc9d3ab3042row3_col1\" class=\"data row3 col1\" >1.41%</td>\n",
       "                        <td id=\"T_786b70a8_1552_11ea_847e_5cc9d3ab3042row3_col2\" class=\"data row3 col2\" >2.38%</td>\n",
       "                        <td id=\"T_786b70a8_1552_11ea_847e_5cc9d3ab3042row3_col3\" class=\"data row3 col3\" >2.86%</td>\n",
       "                        <td id=\"T_786b70a8_1552_11ea_847e_5cc9d3ab3042row3_col4\" class=\"data row3 col4\" >2.59%</td>\n",
       "                        <td id=\"T_786b70a8_1552_11ea_847e_5cc9d3ab3042row3_col5\" class=\"data row3 col5\" >1.82%</td>\n",
       "                        <td id=\"T_786b70a8_1552_11ea_847e_5cc9d3ab3042row3_col6\" class=\"data row3 col6\" >0.00%</td>\n",
       "                        <td id=\"T_786b70a8_1552_11ea_847e_5cc9d3ab3042row3_col7\" class=\"data row3 col7\" >0.88%</td>\n",
       "                        <td id=\"T_786b70a8_1552_11ea_847e_5cc9d3ab3042row3_col8\" class=\"data row3 col8\" >0.00%</td>\n",
       "                        <td id=\"T_786b70a8_1552_11ea_847e_5cc9d3ab3042row3_col9\" class=\"data row3 col9\" >0.00%</td>\n",
       "                        <td id=\"T_786b70a8_1552_11ea_847e_5cc9d3ab3042row3_col10\" class=\"data row3 col10\" >3.03%</td>\n",
       "                        <td id=\"T_786b70a8_1552_11ea_847e_5cc9d3ab3042row3_col11\" class=\"data row3 col11\" >0.00%</td>\n",
       "            </tr>\n",
       "            <tr>\n",
       "                        <th id=\"T_786b70a8_1552_11ea_847e_5cc9d3ab3042level0_row4\" class=\"row_heading level0 row4\" >management</th>\n",
       "                        <td id=\"T_786b70a8_1552_11ea_847e_5cc9d3ab3042row4_col0\" class=\"data row4 col0\" >3.85%</td>\n",
       "                        <td id=\"T_786b70a8_1552_11ea_847e_5cc9d3ab3042row4_col1\" class=\"data row4 col1\" >2.41%</td>\n",
       "                        <td id=\"T_786b70a8_1552_11ea_847e_5cc9d3ab3042row4_col2\" class=\"data row4 col2\" >10.53%</td>\n",
       "                        <td id=\"T_786b70a8_1552_11ea_847e_5cc9d3ab3042row4_col3\" class=\"data row4 col3\" >1.46%</td>\n",
       "                        <td id=\"T_786b70a8_1552_11ea_847e_5cc9d3ab3042row4_col4\" class=\"data row4 col4\" >2.75%</td>\n",
       "                        <td id=\"T_786b70a8_1552_11ea_847e_5cc9d3ab3042row4_col5\" class=\"data row4 col5\" >2.72%</td>\n",
       "                        <td id=\"T_786b70a8_1552_11ea_847e_5cc9d3ab3042row4_col6\" class=\"data row4 col6\" >2.62%</td>\n",
       "                        <td id=\"T_786b70a8_1552_11ea_847e_5cc9d3ab3042row4_col7\" class=\"data row4 col7\" >1.56%</td>\n",
       "                        <td id=\"T_786b70a8_1552_11ea_847e_5cc9d3ab3042row4_col8\" class=\"data row4 col8\" >1.20%</td>\n",
       "                        <td id=\"T_786b70a8_1552_11ea_847e_5cc9d3ab3042row4_col9\" class=\"data row4 col9\" >0.00%</td>\n",
       "                        <td id=\"T_786b70a8_1552_11ea_847e_5cc9d3ab3042row4_col10\" class=\"data row4 col10\" >1.86%</td>\n",
       "                        <td id=\"T_786b70a8_1552_11ea_847e_5cc9d3ab3042row4_col11\" class=\"data row4 col11\" >2.00%</td>\n",
       "            </tr>\n",
       "            <tr>\n",
       "                        <th id=\"T_786b70a8_1552_11ea_847e_5cc9d3ab3042level0_row5\" class=\"row_heading level0 row5\" >retired</th>\n",
       "                        <td id=\"T_786b70a8_1552_11ea_847e_5cc9d3ab3042row5_col0\" class=\"data row5 col0\" >0.62%</td>\n",
       "                        <td id=\"T_786b70a8_1552_11ea_847e_5cc9d3ab3042row5_col1\" class=\"data row5 col1\" >1.33%</td>\n",
       "                        <td id=\"T_786b70a8_1552_11ea_847e_5cc9d3ab3042row5_col2\" class=\"data row5 col2\" >0.00%</td>\n",
       "                        <td id=\"T_786b70a8_1552_11ea_847e_5cc9d3ab3042row5_col3\" class=\"data row5 col3\" >1.82%</td>\n",
       "                        <td id=\"T_786b70a8_1552_11ea_847e_5cc9d3ab3042row5_col4\" class=\"data row5 col4\" >1.16%</td>\n",
       "                        <td id=\"T_786b70a8_1552_11ea_847e_5cc9d3ab3042row5_col5\" class=\"data row5 col5\" >6.67%</td>\n",
       "                        <td id=\"T_786b70a8_1552_11ea_847e_5cc9d3ab3042row5_col6\" class=\"data row5 col6\" >1.18%</td>\n",
       "                        <td id=\"T_786b70a8_1552_11ea_847e_5cc9d3ab3042row5_col7\" class=\"data row5 col7\" >0.00%</td>\n",
       "                        <td id=\"T_786b70a8_1552_11ea_847e_5cc9d3ab3042row5_col8\" class=\"data row5 col8\" >0.00%</td>\n",
       "                        <td id=\"T_786b70a8_1552_11ea_847e_5cc9d3ab3042row5_col9\" class=\"data row5 col9\" >0.00%</td>\n",
       "                        <td id=\"T_786b70a8_1552_11ea_847e_5cc9d3ab3042row5_col10\" class=\"data row5 col10\" >0.99%</td>\n",
       "                        <td id=\"T_786b70a8_1552_11ea_847e_5cc9d3ab3042row5_col11\" class=\"data row5 col11\" >0.00%</td>\n",
       "            </tr>\n",
       "            <tr>\n",
       "                        <th id=\"T_786b70a8_1552_11ea_847e_5cc9d3ab3042level0_row6\" class=\"row_heading level0 row6\" >self-employed</th>\n",
       "                        <td id=\"T_786b70a8_1552_11ea_847e_5cc9d3ab3042row6_col0\" class=\"data row6 col0\" >0.00%</td>\n",
       "                        <td id=\"T_786b70a8_1552_11ea_847e_5cc9d3ab3042row6_col1\" class=\"data row6 col1\" >0.89%</td>\n",
       "                        <td id=\"T_786b70a8_1552_11ea_847e_5cc9d3ab3042row6_col2\" class=\"data row6 col2\" >0.00%</td>\n",
       "                        <td id=\"T_786b70a8_1552_11ea_847e_5cc9d3ab3042row6_col3\" class=\"data row6 col3\" >5.26%</td>\n",
       "                        <td id=\"T_786b70a8_1552_11ea_847e_5cc9d3ab3042row6_col4\" class=\"data row6 col4\" >3.68%</td>\n",
       "                        <td id=\"T_786b70a8_1552_11ea_847e_5cc9d3ab3042row6_col5\" class=\"data row6 col5\" >0.89%</td>\n",
       "                        <td id=\"T_786b70a8_1552_11ea_847e_5cc9d3ab3042row6_col6\" class=\"data row6 col6\" >3.95%</td>\n",
       "                        <td id=\"T_786b70a8_1552_11ea_847e_5cc9d3ab3042row6_col7\" class=\"data row6 col7\" >1.78%</td>\n",
       "                        <td id=\"T_786b70a8_1552_11ea_847e_5cc9d3ab3042row6_col8\" class=\"data row6 col8\" >0.65%</td>\n",
       "                        <td id=\"T_786b70a8_1552_11ea_847e_5cc9d3ab3042row6_col9\" class=\"data row6 col9\" >0.00%</td>\n",
       "                        <td id=\"T_786b70a8_1552_11ea_847e_5cc9d3ab3042row6_col10\" class=\"data row6 col10\" >0.00%</td>\n",
       "                        <td id=\"T_786b70a8_1552_11ea_847e_5cc9d3ab3042row6_col11\" class=\"data row6 col11\" >0.00%</td>\n",
       "            </tr>\n",
       "            <tr>\n",
       "                        <th id=\"T_786b70a8_1552_11ea_847e_5cc9d3ab3042level0_row7\" class=\"row_heading level0 row7\" >services</th>\n",
       "                        <td id=\"T_786b70a8_1552_11ea_847e_5cc9d3ab3042row7_col0\" class=\"data row7 col0\" >5.00%</td>\n",
       "                        <td id=\"T_786b70a8_1552_11ea_847e_5cc9d3ab3042row7_col1\" class=\"data row7 col1\" >1.72%</td>\n",
       "                        <td id=\"T_786b70a8_1552_11ea_847e_5cc9d3ab3042row7_col2\" class=\"data row7 col2\" >3.85%</td>\n",
       "                        <td id=\"T_786b70a8_1552_11ea_847e_5cc9d3ab3042row7_col3\" class=\"data row7 col3\" >1.76%</td>\n",
       "                        <td id=\"T_786b70a8_1552_11ea_847e_5cc9d3ab3042row7_col4\" class=\"data row7 col4\" >1.56%</td>\n",
       "                        <td id=\"T_786b70a8_1552_11ea_847e_5cc9d3ab3042row7_col5\" class=\"data row7 col5\" >2.17%</td>\n",
       "                        <td id=\"T_786b70a8_1552_11ea_847e_5cc9d3ab3042row7_col6\" class=\"data row7 col6\" >0.00%</td>\n",
       "                        <td id=\"T_786b70a8_1552_11ea_847e_5cc9d3ab3042row7_col7\" class=\"data row7 col7\" >1.10%</td>\n",
       "                        <td id=\"T_786b70a8_1552_11ea_847e_5cc9d3ab3042row7_col8\" class=\"data row7 col8\" >1.03%</td>\n",
       "                        <td id=\"T_786b70a8_1552_11ea_847e_5cc9d3ab3042row7_col9\" class=\"data row7 col9\" >0.00%</td>\n",
       "                        <td id=\"T_786b70a8_1552_11ea_847e_5cc9d3ab3042row7_col10\" class=\"data row7 col10\" >2.13%</td>\n",
       "                        <td id=\"T_786b70a8_1552_11ea_847e_5cc9d3ab3042row7_col11\" class=\"data row7 col11\" >2.86%</td>\n",
       "            </tr>\n",
       "            <tr>\n",
       "                        <th id=\"T_786b70a8_1552_11ea_847e_5cc9d3ab3042level0_row8\" class=\"row_heading level0 row8\" >student</th>\n",
       "                        <td id=\"T_786b70a8_1552_11ea_847e_5cc9d3ab3042row8_col0\" class=\"data row8 col0\" >0.00%</td>\n",
       "                        <td id=\"T_786b70a8_1552_11ea_847e_5cc9d3ab3042row8_col1\" class=\"data row8 col1\" >0.00%</td>\n",
       "                        <td id=\"T_786b70a8_1552_11ea_847e_5cc9d3ab3042row8_col2\" class=\"data row8 col2\" >2.44%</td>\n",
       "                        <td id=\"T_786b70a8_1552_11ea_847e_5cc9d3ab3042row8_col3\" class=\"data row8 col3\" >0.00%</td>\n",
       "                        <td id=\"T_786b70a8_1552_11ea_847e_5cc9d3ab3042row8_col4\" class=\"data row8 col4\" >0.00%</td>\n",
       "                        <td id=\"T_786b70a8_1552_11ea_847e_5cc9d3ab3042row8_col5\" class=\"data row8 col5\" >0.00%</td>\n",
       "                        <td id=\"T_786b70a8_1552_11ea_847e_5cc9d3ab3042row8_col6\" class=\"data row8 col6\" >0.00%</td>\n",
       "                        <td id=\"T_786b70a8_1552_11ea_847e_5cc9d3ab3042row8_col7\" class=\"data row8 col7\" >4.55%</td>\n",
       "                        <td id=\"T_786b70a8_1552_11ea_847e_5cc9d3ab3042row8_col8\" class=\"data row8 col8\" >0.51%</td>\n",
       "                        <td id=\"T_786b70a8_1552_11ea_847e_5cc9d3ab3042row8_col9\" class=\"data row8 col9\" >0.00%</td>\n",
       "                        <td id=\"T_786b70a8_1552_11ea_847e_5cc9d3ab3042row8_col10\" class=\"data row8 col10\" >0.00%</td>\n",
       "                        <td id=\"T_786b70a8_1552_11ea_847e_5cc9d3ab3042row8_col11\" class=\"data row8 col11\" >0.00%</td>\n",
       "            </tr>\n",
       "            <tr>\n",
       "                        <th id=\"T_786b70a8_1552_11ea_847e_5cc9d3ab3042level0_row9\" class=\"row_heading level0 row9\" >technician</th>\n",
       "                        <td id=\"T_786b70a8_1552_11ea_847e_5cc9d3ab3042row9_col0\" class=\"data row9 col0\" >0.00%</td>\n",
       "                        <td id=\"T_786b70a8_1552_11ea_847e_5cc9d3ab3042row9_col1\" class=\"data row9 col1\" >1.60%</td>\n",
       "                        <td id=\"T_786b70a8_1552_11ea_847e_5cc9d3ab3042row9_col2\" class=\"data row9 col2\" >0.00%</td>\n",
       "                        <td id=\"T_786b70a8_1552_11ea_847e_5cc9d3ab3042row9_col3\" class=\"data row9 col3\" >2.40%</td>\n",
       "                        <td id=\"T_786b70a8_1552_11ea_847e_5cc9d3ab3042row9_col4\" class=\"data row9 col4\" >1.56%</td>\n",
       "                        <td id=\"T_786b70a8_1552_11ea_847e_5cc9d3ab3042row9_col5\" class=\"data row9 col5\" >2.50%</td>\n",
       "                        <td id=\"T_786b70a8_1552_11ea_847e_5cc9d3ab3042row9_col6\" class=\"data row9 col6\" >2.29%</td>\n",
       "                        <td id=\"T_786b70a8_1552_11ea_847e_5cc9d3ab3042row9_col7\" class=\"data row9 col7\" >1.11%</td>\n",
       "                        <td id=\"T_786b70a8_1552_11ea_847e_5cc9d3ab3042row9_col8\" class=\"data row9 col8\" >0.89%</td>\n",
       "                        <td id=\"T_786b70a8_1552_11ea_847e_5cc9d3ab3042row9_col9\" class=\"data row9 col9\" >4.00%</td>\n",
       "                        <td id=\"T_786b70a8_1552_11ea_847e_5cc9d3ab3042row9_col10\" class=\"data row9 col10\" >1.37%</td>\n",
       "                        <td id=\"T_786b70a8_1552_11ea_847e_5cc9d3ab3042row9_col11\" class=\"data row9 col11\" >0.00%</td>\n",
       "            </tr>\n",
       "            <tr>\n",
       "                        <th id=\"T_786b70a8_1552_11ea_847e_5cc9d3ab3042level0_row10\" class=\"row_heading level0 row10\" >unemployed</th>\n",
       "                        <td id=\"T_786b70a8_1552_11ea_847e_5cc9d3ab3042row10_col0\" class=\"data row10 col0\" >7.41%</td>\n",
       "                        <td id=\"T_786b70a8_1552_11ea_847e_5cc9d3ab3042row10_col1\" class=\"data row10 col1\" >3.66%</td>\n",
       "                        <td id=\"T_786b70a8_1552_11ea_847e_5cc9d3ab3042row10_col2\" class=\"data row10 col2\" >4.55%</td>\n",
       "                        <td id=\"T_786b70a8_1552_11ea_847e_5cc9d3ab3042row10_col3\" class=\"data row10 col3\" >1.69%</td>\n",
       "                        <td id=\"T_786b70a8_1552_11ea_847e_5cc9d3ab3042row10_col4\" class=\"data row10 col4\" >2.14%</td>\n",
       "                        <td id=\"T_786b70a8_1552_11ea_847e_5cc9d3ab3042row10_col5\" class=\"data row10 col5\" >2.12%</td>\n",
       "                        <td id=\"T_786b70a8_1552_11ea_847e_5cc9d3ab3042row10_col6\" class=\"data row10 col6\" >8.00%</td>\n",
       "                        <td id=\"T_786b70a8_1552_11ea_847e_5cc9d3ab3042row10_col7\" class=\"data row10 col7\" >0.00%</td>\n",
       "                        <td id=\"T_786b70a8_1552_11ea_847e_5cc9d3ab3042row10_col8\" class=\"data row10 col8\" >1.49%</td>\n",
       "                        <td id=\"T_786b70a8_1552_11ea_847e_5cc9d3ab3042row10_col9\" class=\"data row10 col9\" >0.00%</td>\n",
       "                        <td id=\"T_786b70a8_1552_11ea_847e_5cc9d3ab3042row10_col10\" class=\"data row10 col10\" >0.00%</td>\n",
       "                        <td id=\"T_786b70a8_1552_11ea_847e_5cc9d3ab3042row10_col11\" class=\"data row10 col11\" >0.00%</td>\n",
       "            </tr>\n",
       "            <tr>\n",
       "                        <th id=\"T_786b70a8_1552_11ea_847e_5cc9d3ab3042level0_row11\" class=\"row_heading level0 row11\" >unknown</th>\n",
       "                        <td id=\"T_786b70a8_1552_11ea_847e_5cc9d3ab3042row11_col0\" class=\"data row11 col0\" >0.00%</td>\n",
       "                        <td id=\"T_786b70a8_1552_11ea_847e_5cc9d3ab3042row11_col1\" class=\"data row11 col1\" >0.00%</td>\n",
       "                        <td id=\"T_786b70a8_1552_11ea_847e_5cc9d3ab3042row11_col2\" class=\"data row11 col2\" >0.00%</td>\n",
       "                        <td id=\"T_786b70a8_1552_11ea_847e_5cc9d3ab3042row11_col3\" class=\"data row11 col3\" >0.00%</td>\n",
       "                        <td id=\"T_786b70a8_1552_11ea_847e_5cc9d3ab3042row11_col4\" class=\"data row11 col4\" >2.27%</td>\n",
       "                        <td id=\"T_786b70a8_1552_11ea_847e_5cc9d3ab3042row11_col5\" class=\"data row11 col5\" >0.00%</td>\n",
       "                        <td id=\"T_786b70a8_1552_11ea_847e_5cc9d3ab3042row11_col6\" class=\"data row11 col6\" >0.00%</td>\n",
       "                        <td id=\"T_786b70a8_1552_11ea_847e_5cc9d3ab3042row11_col7\" class=\"data row11 col7\" >0.00%</td>\n",
       "                        <td id=\"T_786b70a8_1552_11ea_847e_5cc9d3ab3042row11_col8\" class=\"data row11 col8\" >0.00%</td>\n",
       "                        <td id=\"T_786b70a8_1552_11ea_847e_5cc9d3ab3042row11_col9\" class=\"data row11 col9\" >0.00%</td>\n",
       "                        <td id=\"T_786b70a8_1552_11ea_847e_5cc9d3ab3042row11_col10\" class=\"data row11 col10\" >0.00%</td>\n",
       "                        <td id=\"T_786b70a8_1552_11ea_847e_5cc9d3ab3042row11_col11\" class=\"data row11 col11\" >4.00%</td>\n",
       "            </tr>\n",
       "    </tbody></table>"
      ],
      "text/plain": [
       "<pandas.io.formats.style.Styler at 0x29a38c84198>"
      ]
     },
     "execution_count": 23,
     "metadata": {},
     "output_type": "execute_result"
    }
   ],
   "source": [
    "pd.pivot_table(\n",
    "    df,\n",
    "    index=[\"job\"],\n",
    "    columns=[\"education\", \"marital\"],\n",
    "    values=[\"default\"],\n",
    "    ).style.background_gradient(cmap=cm_green).format(\"{:.2%}\")"
   ]
  },
  {
   "cell_type": "markdown",
   "metadata": {},
   "source": [
    "Considerando as duas feições numéricas separadamente, saldo médio parece indicar uma diferença maior entre as distribuições agrupadas por default.\n",
    "Apesar do gráfico de dispersão parecer mostrar um intervalo de idades para a categoria default, é possível que se trate de um artefato amostral,\n",
    "considerando as distribuições com parâmetros próximos.\n",
    "\n",
    "Dentre as categóricas, profissão parece indicar alguma relevância, visto que empreendedores tem cerca do dobro da taxa de default da população.\n",
    "A tabela pivô detalha as relações cruzadas e sugere algumas categorias anômalas, destacadas. Mais uma vez, a pequena quantidade de dados com valor\n",
    "de default verdadeiro aumenta a chance destas serem apenas artefatos.\n",
    "\n",
    "Para um tratamento envolvendo todas estas variáveis em conjunto, um possível tratamento é treinar um classificador que possua como saída valores\n",
    "de importância de feições, como uma floresta aleatória. No caso desta (e de sua implementação na biblioteca scikit-learn) a importância de feições\n",
    "é calculada a partir da redução do coeficiente de Gini em cada nó de cada árvore, agregada por feição."
   ]
  },
  {
   "cell_type": "code",
   "execution_count": 24,
   "metadata": {},
   "outputs": [],
   "source": [
    "df_personal_ind = pd.concat([  # seleção de variáveis pessoais e conversão de categóricas para numéricas via codificação indicadora (one-hot)\n",
    "    df[[\"age\", \"balance\", \"housing\", \"loan\"]],\n",
    "    pd.get_dummies(df.job, prefix=\"job\"),\n",
    "    pd.get_dummies(df.education, prefix=\"education\"),\n",
    "    pd.get_dummies(df.marital, prefix=\"marital\")], axis=1)\n",
    "default = df[\"default\"]"
   ]
  },
  {
   "cell_type": "code",
   "execution_count": 25,
   "metadata": {},
   "outputs": [],
   "source": [
    "X_train, X_test, y_train, y_test = model_selection.train_test_split(\n",
    "     df_personal_ind, default, test_size=0.25, random_state=0)"
   ]
  },
  {
   "cell_type": "code",
   "execution_count": 26,
   "metadata": {},
   "outputs": [],
   "source": [
    "clf = ensemble.RandomForestClassifier(n_estimators=100, random_state=0)"
   ]
  },
  {
   "cell_type": "code",
   "execution_count": 27,
   "metadata": {},
   "outputs": [],
   "source": [
    "clf.fit(X_train, y_train)\n",
    "y_proba = clf.predict_proba(X_test)\n",
    "y_pred = clf.predict(X_test)"
   ]
  },
  {
   "cell_type": "code",
   "execution_count": 28,
   "metadata": {},
   "outputs": [
    {
     "data": {
      "text/plain": [
       "Text(0,0.5,'True positive rate')"
      ]
     },
     "execution_count": 28,
     "metadata": {},
     "output_type": "execute_result"
    },
    {
     "data": {
      "image/png": "[encoded data removed]",
      "text/plain": [
       "<Figure size 432x288 with 1 Axes>"
      ]
     },
     "metadata": {
      "needs_background": "light"
     },
     "output_type": "display_data"
    }
   ],
   "source": [
    "fpr, tpr, thresholds = metrics.roc_curve(y_test, y_proba[:,1], pos_label=1)\n",
    "\n",
    "auc = metrics.roc_auc_score(y_test, y_proba[:,1])\n",
    "\n",
    "fig, ax = plt.subplots()\n",
    "ax.plot(fpr, tpr)\n",
    "ax.plot([0, 1], [0, 1], color='navy', linestyle='--', label='random')\n",
    "plt.title(f'AUC: {auc}')\n",
    "ax.set_xlabel('False positive rate')\n",
    "ax.set_ylabel('True positive rate')"
   ]
  },
  {
   "cell_type": "code",
   "execution_count": 29,
   "metadata": {},
   "outputs": [
    {
     "name": "stdout",
     "output_type": "stream",
     "text": [
      "              precision    recall  f1-score   support\n",
      "\n",
      "       False       0.98      1.00      0.99     11105\n",
      "        True       0.32      0.06      0.09       198\n",
      "\n",
      "    accuracy                           0.98     11303\n",
      "   macro avg       0.65      0.53      0.54     11303\n",
      "weighted avg       0.97      0.98      0.97     11303\n",
      "\n"
     ]
    }
   ],
   "source": [
    "print(metrics.classification_report(y_test, y_pred))#, y_proba[:,1] > 0.9))"
   ]
  },
  {
   "cell_type": "code",
   "execution_count": 30,
   "metadata": {},
   "outputs": [
    {
     "data": {
      "text/html": [
       "<style  type=\"text/css\" >\n",
       "</style><table id=\"T_7bb79662_1552_11ea_94bb_5cc9d3ab3042\" ><thead>    <tr>        <th class=\"index_name level0\" >predicted</th>        <th class=\"col_heading level0 col0\" >False</th>        <th class=\"col_heading level0 col1\" >True</th>    </tr>    <tr>        <th class=\"index_name level0\" >default</th>        <th class=\"blank\" ></th>        <th class=\"blank\" ></th>    </tr></thead><tbody>\n",
       "                <tr>\n",
       "                        <th id=\"T_7bb79662_1552_11ea_94bb_5cc9d3ab3042level0_row0\" class=\"row_heading level0 row0\" >False</th>\n",
       "                        <td id=\"T_7bb79662_1552_11ea_94bb_5cc9d3ab3042row0_col0\" class=\"data row0 col0\" >98.34%</td>\n",
       "                        <td id=\"T_7bb79662_1552_11ea_94bb_5cc9d3ab3042row0_col1\" class=\"data row0 col1\" >1.66%</td>\n",
       "            </tr>\n",
       "            <tr>\n",
       "                        <th id=\"T_7bb79662_1552_11ea_94bb_5cc9d3ab3042level0_row1\" class=\"row_heading level0 row1\" >True</th>\n",
       "                        <td id=\"T_7bb79662_1552_11ea_94bb_5cc9d3ab3042row1_col0\" class=\"data row1 col0\" >67.65%</td>\n",
       "                        <td id=\"T_7bb79662_1552_11ea_94bb_5cc9d3ab3042row1_col1\" class=\"data row1 col1\" >32.35%</td>\n",
       "            </tr>\n",
       "    </tbody></table>"
      ],
      "text/plain": [
       "<pandas.io.formats.style.Styler at 0x29a387fe9e8>"
      ]
     },
     "execution_count": 30,
     "metadata": {},
     "output_type": "execute_result"
    }
   ],
   "source": [
    "pd.crosstab(\n",
    "    y_pred,\n",
    "    y_test,\n",
    "    rownames=[\"default\"],\n",
    "    colnames=[\"predicted\"],\n",
    "    normalize=\"index\").style.format(\"{:.2%}\")"
   ]
  },
  {
   "cell_type": "markdown",
   "metadata": {},
   "source": [
    "Apesar dos scores em geral baixos para a classificação de verdadeiros positivos, há indicativo de alguma capacidade preditiva com a precisão de 0.32. Utilizando isto e treinando a floresta para todos os dados,"
   ]
  },
  {
   "cell_type": "code",
   "execution_count": 31,
   "metadata": {},
   "outputs": [],
   "source": [
    "gini_importances = pd.DataFrame(\n",
    "    {\"importance\": ensemble.RandomForestClassifier(n_estimators=100, random_state=0).fit(df_personal_ind, default).feature_importances_},\n",
    "    index=df_personal_ind.columns)"
   ]
  },
  {
   "cell_type": "code",
   "execution_count": 32,
   "metadata": {},
   "outputs": [
    {
     "data": {
      "text/html": [
       "<style  type=\"text/css\" >\n",
       "</style><table id=\"T_7f2a634a_1552_11ea_bbd2_5cc9d3ab3042\" ><thead>    <tr>        <th class=\"blank level0\" ></th>        <th class=\"col_heading level0 col0\" >importance</th>    </tr></thead><tbody>\n",
       "                <tr>\n",
       "                        <th id=\"T_7f2a634a_1552_11ea_bbd2_5cc9d3ab3042level0_row0\" class=\"row_heading level0 row0\" >balance</th>\n",
       "                        <td id=\"T_7f2a634a_1552_11ea_bbd2_5cc9d3ab3042row0_col0\" class=\"data row0 col0\" >54.77%</td>\n",
       "            </tr>\n",
       "            <tr>\n",
       "                        <th id=\"T_7f2a634a_1552_11ea_bbd2_5cc9d3ab3042level0_row1\" class=\"row_heading level0 row1\" >age</th>\n",
       "                        <td id=\"T_7f2a634a_1552_11ea_bbd2_5cc9d3ab3042row1_col0\" class=\"data row1 col0\" >27.22%</td>\n",
       "            </tr>\n",
       "            <tr>\n",
       "                        <th id=\"T_7f2a634a_1552_11ea_bbd2_5cc9d3ab3042level0_row2\" class=\"row_heading level0 row2\" >housing</th>\n",
       "                        <td id=\"T_7f2a634a_1552_11ea_bbd2_5cc9d3ab3042row2_col0\" class=\"data row2 col0\" >2.46%</td>\n",
       "            </tr>\n",
       "            <tr>\n",
       "                        <th id=\"T_7f2a634a_1552_11ea_bbd2_5cc9d3ab3042level0_row3\" class=\"row_heading level0 row3\" >loan</th>\n",
       "                        <td id=\"T_7f2a634a_1552_11ea_bbd2_5cc9d3ab3042row3_col0\" class=\"data row3 col0\" >2.15%</td>\n",
       "            </tr>\n",
       "            <tr>\n",
       "                        <th id=\"T_7f2a634a_1552_11ea_bbd2_5cc9d3ab3042level0_row4\" class=\"row_heading level0 row4\" >education_secondary</th>\n",
       "                        <td id=\"T_7f2a634a_1552_11ea_bbd2_5cc9d3ab3042row4_col0\" class=\"data row4 col0\" >1.16%</td>\n",
       "            </tr>\n",
       "            <tr>\n",
       "                        <th id=\"T_7f2a634a_1552_11ea_bbd2_5cc9d3ab3042level0_row5\" class=\"row_heading level0 row5\" >marital_single</th>\n",
       "                        <td id=\"T_7f2a634a_1552_11ea_bbd2_5cc9d3ab3042row5_col0\" class=\"data row5 col0\" >1.02%</td>\n",
       "            </tr>\n",
       "            <tr>\n",
       "                        <th id=\"T_7f2a634a_1552_11ea_bbd2_5cc9d3ab3042level0_row6\" class=\"row_heading level0 row6\" >job_blue-collar</th>\n",
       "                        <td id=\"T_7f2a634a_1552_11ea_bbd2_5cc9d3ab3042row6_col0\" class=\"data row6 col0\" >1.01%</td>\n",
       "            </tr>\n",
       "            <tr>\n",
       "                        <th id=\"T_7f2a634a_1552_11ea_bbd2_5cc9d3ab3042level0_row7\" class=\"row_heading level0 row7\" >job_technician</th>\n",
       "                        <td id=\"T_7f2a634a_1552_11ea_bbd2_5cc9d3ab3042row7_col0\" class=\"data row7 col0\" >0.96%</td>\n",
       "            </tr>\n",
       "            <tr>\n",
       "                        <th id=\"T_7f2a634a_1552_11ea_bbd2_5cc9d3ab3042level0_row8\" class=\"row_heading level0 row8\" >marital_married</th>\n",
       "                        <td id=\"T_7f2a634a_1552_11ea_bbd2_5cc9d3ab3042row8_col0\" class=\"data row8 col0\" >0.96%</td>\n",
       "            </tr>\n",
       "            <tr>\n",
       "                        <th id=\"T_7f2a634a_1552_11ea_bbd2_5cc9d3ab3042level0_row9\" class=\"row_heading level0 row9\" >job_management</th>\n",
       "                        <td id=\"T_7f2a634a_1552_11ea_bbd2_5cc9d3ab3042row9_col0\" class=\"data row9 col0\" >0.93%</td>\n",
       "            </tr>\n",
       "    </tbody></table>"
      ],
      "text/plain": [
       "<pandas.io.formats.style.Styler at 0x29a3880d3c8>"
      ]
     },
     "execution_count": 32,
     "metadata": {},
     "output_type": "execute_result"
    }
   ],
   "source": [
    "gini_importances.sort_values(\"importance\", ascending=False)[:10].style.format(\"{:.2%}\")"
   ]
  },
  {
   "cell_type": "code",
   "execution_count": 33,
   "metadata": {},
   "outputs": [
    {
     "data": {
      "text/html": [
       "<style  type=\"text/css\" >\n",
       "</style><table id=\"T_7f2e5838_1552_11ea_a5ac_5cc9d3ab3042\" ><thead>    <tr>        <th class=\"blank level0\" ></th>        <th class=\"col_heading level0 col0\" >importance</th>    </tr></thead><tbody>\n",
       "                <tr>\n",
       "                        <th id=\"T_7f2e5838_1552_11ea_a5ac_5cc9d3ab3042level0_row0\" class=\"row_heading level0 row0\" >balance</th>\n",
       "                        <td id=\"T_7f2e5838_1552_11ea_a5ac_5cc9d3ab3042row0_col0\" class=\"data row0 col0\" >54.77%</td>\n",
       "            </tr>\n",
       "            <tr>\n",
       "                        <th id=\"T_7f2e5838_1552_11ea_a5ac_5cc9d3ab3042level0_row1\" class=\"row_heading level0 row1\" >age</th>\n",
       "                        <td id=\"T_7f2e5838_1552_11ea_a5ac_5cc9d3ab3042row1_col0\" class=\"data row1 col0\" >27.22%</td>\n",
       "            </tr>\n",
       "            <tr>\n",
       "                        <th id=\"T_7f2e5838_1552_11ea_a5ac_5cc9d3ab3042level0_row2\" class=\"row_heading level0 row2\" >job</th>\n",
       "                        <td id=\"T_7f2e5838_1552_11ea_a5ac_5cc9d3ab3042row2_col0\" class=\"data row2 col0\" >7.25%</td>\n",
       "            </tr>\n",
       "            <tr>\n",
       "                        <th id=\"T_7f2e5838_1552_11ea_a5ac_5cc9d3ab3042level0_row3\" class=\"row_heading level0 row3\" >education</th>\n",
       "                        <td id=\"T_7f2e5838_1552_11ea_a5ac_5cc9d3ab3042row3_col0\" class=\"data row3 col0\" >3.47%</td>\n",
       "            </tr>\n",
       "            <tr>\n",
       "                        <th id=\"T_7f2e5838_1552_11ea_a5ac_5cc9d3ab3042level0_row4\" class=\"row_heading level0 row4\" >marital</th>\n",
       "                        <td id=\"T_7f2e5838_1552_11ea_a5ac_5cc9d3ab3042row4_col0\" class=\"data row4 col0\" >2.68%</td>\n",
       "            </tr>\n",
       "            <tr>\n",
       "                        <th id=\"T_7f2e5838_1552_11ea_a5ac_5cc9d3ab3042level0_row5\" class=\"row_heading level0 row5\" >housing</th>\n",
       "                        <td id=\"T_7f2e5838_1552_11ea_a5ac_5cc9d3ab3042row5_col0\" class=\"data row5 col0\" >2.46%</td>\n",
       "            </tr>\n",
       "            <tr>\n",
       "                        <th id=\"T_7f2e5838_1552_11ea_a5ac_5cc9d3ab3042level0_row6\" class=\"row_heading level0 row6\" >loan</th>\n",
       "                        <td id=\"T_7f2e5838_1552_11ea_a5ac_5cc9d3ab3042row6_col0\" class=\"data row6 col0\" >2.15%</td>\n",
       "            </tr>\n",
       "    </tbody></table>"
      ],
      "text/plain": [
       "<pandas.io.formats.style.Styler at 0x29a3b0acc88>"
      ]
     },
     "execution_count": 33,
     "metadata": {},
     "output_type": "execute_result"
    }
   ],
   "source": [
    "gini_importances.groupby(\n",
    "    lambda f: f.split(\"_\")[0]).sum().sort_values(\"importance\", ascending=False).style.format(\"{:.2%}\")"
   ]
  },
  {
   "cell_type": "markdown",
   "metadata": {},
   "source": [
    "A primeira tabela trata cada categoria das feições categóricas como uma variável separada, mostrando as 10 com maior importância. Na segunda, as categorias foram reagrupadas em suas feições originais.\n",
    "\n",
    "Nesta situação, saldo e idade se apresentam como importantes para a classificação em ambas com importância muito acima das seguintes, profissão e educação na agrupada e empréstimos imobiliário e pessoal na desagrupada. De qualquer forma, é necessário cuidado em qualquer interpretação deste tipo, não sendo provavelmente informações suficientes para a decisão de exigência de seguro ou não, salvo informadas pelas políticas do banco quanto ao risco aceitável. Outras feições provavelmente seriam necessárias para um modelo (como maiores detalhes sobre a situação de crédito em dívida, e se já houveram situações anteriores), assim como maior base de dados para aumentar a representatividade."
   ]
  },
  {
   "cell_type": "markdown",
   "metadata": {},
   "source": [
    "### 6. Quais são as características mais proeminentes de um cliente que possua empréstimo imobiliário?"
   ]
  },
  {
   "cell_type": "code",
   "execution_count": 34,
   "metadata": {},
   "outputs": [],
   "source": [
    "df_personal = df[[\"age\", \"balance\", \"housing\", \"loan\", \"job\", \"education\", \"marital\"]]"
   ]
  },
  {
   "cell_type": "code",
   "execution_count": 35,
   "metadata": {},
   "outputs": [
    {
     "data": {
      "text/html": [
       "<div>\n",
       "<style scoped>\n",
       "    .dataframe tbody tr th:only-of-type {\n",
       "        vertical-align: middle;\n",
       "    }\n",
       "\n",
       "    .dataframe tbody tr th {\n",
       "        vertical-align: top;\n",
       "    }\n",
       "\n",
       "    .dataframe thead tr th {\n",
       "        text-align: left;\n",
       "    }\n",
       "\n",
       "    .dataframe thead tr:last-of-type th {\n",
       "        text-align: right;\n",
       "    }\n",
       "</style>\n",
       "<table border=\"1\" class=\"dataframe\">\n",
       "  <thead>\n",
       "    <tr>\n",
       "      <th></th>\n",
       "      <th colspan=\"8\" halign=\"left\">age</th>\n",
       "      <th colspan=\"8\" halign=\"left\">balance</th>\n",
       "    </tr>\n",
       "    <tr>\n",
       "      <th></th>\n",
       "      <th>count</th>\n",
       "      <th>mean</th>\n",
       "      <th>std</th>\n",
       "      <th>min</th>\n",
       "      <th>25%</th>\n",
       "      <th>50%</th>\n",
       "      <th>75%</th>\n",
       "      <th>max</th>\n",
       "      <th>count</th>\n",
       "      <th>mean</th>\n",
       "      <th>std</th>\n",
       "      <th>min</th>\n",
       "      <th>25%</th>\n",
       "      <th>50%</th>\n",
       "      <th>75%</th>\n",
       "      <th>max</th>\n",
       "    </tr>\n",
       "    <tr>\n",
       "      <th>housing</th>\n",
       "      <th></th>\n",
       "      <th></th>\n",
       "      <th></th>\n",
       "      <th></th>\n",
       "      <th></th>\n",
       "      <th></th>\n",
       "      <th></th>\n",
       "      <th></th>\n",
       "      <th></th>\n",
       "      <th></th>\n",
       "      <th></th>\n",
       "      <th></th>\n",
       "      <th></th>\n",
       "      <th></th>\n",
       "      <th></th>\n",
       "      <th></th>\n",
       "    </tr>\n",
       "  </thead>\n",
       "  <tbody>\n",
       "    <tr>\n",
       "      <th>False</th>\n",
       "      <td>20081.0</td>\n",
       "      <td>43.139883</td>\n",
       "      <td>12.058696</td>\n",
       "      <td>18.0</td>\n",
       "      <td>33.0</td>\n",
       "      <td>42.0</td>\n",
       "      <td>52.0</td>\n",
       "      <td>95.0</td>\n",
       "      <td>20081.0</td>\n",
       "      <td>1596.501270</td>\n",
       "      <td>3613.405339</td>\n",
       "      <td>-8019.0</td>\n",
       "      <td>85.0</td>\n",
       "      <td>507.0</td>\n",
       "      <td>1708.00</td>\n",
       "      <td>102127.0</td>\n",
       "    </tr>\n",
       "    <tr>\n",
       "      <th>True</th>\n",
       "      <td>25130.0</td>\n",
       "      <td>39.175288</td>\n",
       "      <td>8.926807</td>\n",
       "      <td>20.0</td>\n",
       "      <td>32.0</td>\n",
       "      <td>38.0</td>\n",
       "      <td>45.0</td>\n",
       "      <td>78.0</td>\n",
       "      <td>25130.0</td>\n",
       "      <td>1175.103064</td>\n",
       "      <td>2483.285761</td>\n",
       "      <td>-4057.0</td>\n",
       "      <td>62.0</td>\n",
       "      <td>412.0</td>\n",
       "      <td>1257.75</td>\n",
       "      <td>58544.0</td>\n",
       "    </tr>\n",
       "  </tbody>\n",
       "</table>\n",
       "</div>"
      ],
      "text/plain": [
       "             age                                                      balance  \\\n",
       "           count       mean        std   min   25%   50%   75%   max    count   \n",
       "housing                                                                         \n",
       "False    20081.0  43.139883  12.058696  18.0  33.0  42.0  52.0  95.0  20081.0   \n",
       "True     25130.0  39.175288   8.926807  20.0  32.0  38.0  45.0  78.0  25130.0   \n",
       "\n",
       "                                                                           \n",
       "                mean          std     min   25%    50%      75%       max  \n",
       "housing                                                                    \n",
       "False    1596.501270  3613.405339 -8019.0  85.0  507.0  1708.00  102127.0  \n",
       "True     1175.103064  2483.285761 -4057.0  62.0  412.0  1257.75   58544.0  "
      ]
     },
     "execution_count": 35,
     "metadata": {},
     "output_type": "execute_result"
    }
   ],
   "source": [
    "df.groupby(\"housing\")[[\"age\", \"balance\"]].describe()"
   ]
  },
  {
   "cell_type": "code",
   "execution_count": 36,
   "metadata": {},
   "outputs": [
    {
     "data": {
      "text/plain": [
       "<seaborn.axisgrid.FacetGrid at 0x29a38761c18>"
      ]
     },
     "execution_count": 36,
     "metadata": {},
     "output_type": "execute_result"
    },
    {
     "data": {
      "image/png": "[encoded data removed]",
      "text/plain": [
       "<Figure size 216x216 with 1 Axes>"
      ]
     },
     "metadata": {
      "needs_background": "light"
     },
     "output_type": "display_data"
    }
   ],
   "source": [
    "sns.FacetGrid(df, hue=\"housing\").map(sns.kdeplot, \"age\", shade=True)"
   ]
  },
  {
   "cell_type": "code",
   "execution_count": 37,
   "metadata": {},
   "outputs": [
    {
     "data": {
      "text/html": [
       "<div>\n",
       "<style scoped>\n",
       "    .dataframe tbody tr th:only-of-type {\n",
       "        vertical-align: middle;\n",
       "    }\n",
       "\n",
       "    .dataframe tbody tr th {\n",
       "        vertical-align: top;\n",
       "    }\n",
       "\n",
       "    .dataframe thead th {\n",
       "        text-align: right;\n",
       "    }\n",
       "</style>\n",
       "<table border=\"1\" class=\"dataframe\">\n",
       "  <thead>\n",
       "    <tr style=\"text-align: right;\">\n",
       "      <th></th>\n",
       "      <th>age</th>\n",
       "      <th>balance</th>\n",
       "    </tr>\n",
       "    <tr>\n",
       "      <th>housing</th>\n",
       "      <th></th>\n",
       "      <th></th>\n",
       "    </tr>\n",
       "  </thead>\n",
       "  <tbody>\n",
       "    <tr>\n",
       "      <th>False</th>\n",
       "      <td>12.058696</td>\n",
       "      <td>3613.405339</td>\n",
       "    </tr>\n",
       "    <tr>\n",
       "      <th>True</th>\n",
       "      <td>8.926807</td>\n",
       "      <td>2483.285761</td>\n",
       "    </tr>\n",
       "  </tbody>\n",
       "</table>\n",
       "</div>"
      ],
      "text/plain": [
       "               age      balance\n",
       "housing                        \n",
       "False    12.058696  3613.405339\n",
       "True      8.926807  2483.285761"
      ]
     },
     "execution_count": 37,
     "metadata": {},
     "output_type": "execute_result"
    }
   ],
   "source": [
    "df.groupby(\"housing\")[[\"age\", \"balance\"]].std()"
   ]
  },
  {
   "cell_type": "code",
   "execution_count": 38,
   "metadata": {},
   "outputs": [
    {
     "data": {
      "text/html": [
       "<style  type=\"text/css\" >\n",
       "</style><table id=\"T_7f8c9ca8_1552_11ea_8ba0_5cc9d3ab3042\" ><thead>    <tr>        <th class=\"index_name level0\" >housing</th>        <th class=\"col_heading level0 col0\" >False</th>        <th class=\"col_heading level0 col1\" >True</th>    </tr>    <tr>        <th class=\"index_name level0\" >job</th>        <th class=\"blank\" ></th>        <th class=\"blank\" ></th>    </tr></thead><tbody>\n",
       "                <tr>\n",
       "                        <th id=\"T_7f8c9ca8_1552_11ea_8ba0_5cc9d3ab3042level0_row0\" class=\"row_heading level0 row0\" >admin.</th>\n",
       "                        <td id=\"T_7f8c9ca8_1552_11ea_8ba0_5cc9d3ab3042row0_col0\" class=\"data row0 col0\" >9.90%</td>\n",
       "                        <td id=\"T_7f8c9ca8_1552_11ea_8ba0_5cc9d3ab3042row0_col1\" class=\"data row0 col1\" >12.66%</td>\n",
       "            </tr>\n",
       "            <tr>\n",
       "                        <th id=\"T_7f8c9ca8_1552_11ea_8ba0_5cc9d3ab3042level0_row1\" class=\"row_heading level0 row1\" >blue-collar</th>\n",
       "                        <td id=\"T_7f8c9ca8_1552_11ea_8ba0_5cc9d3ab3042row1_col0\" class=\"data row1 col0\" >13.37%</td>\n",
       "                        <td id=\"T_7f8c9ca8_1552_11ea_8ba0_5cc9d3ab3042row1_col1\" class=\"data row1 col1\" >28.05%</td>\n",
       "            </tr>\n",
       "            <tr>\n",
       "                        <th id=\"T_7f8c9ca8_1552_11ea_8ba0_5cc9d3ab3042level0_row2\" class=\"row_heading level0 row2\" >entrepreneur</th>\n",
       "                        <td id=\"T_7f8c9ca8_1552_11ea_8ba0_5cc9d3ab3042row2_col0\" class=\"data row2 col0\" >3.08%</td>\n",
       "                        <td id=\"T_7f8c9ca8_1552_11ea_8ba0_5cc9d3ab3042row2_col1\" class=\"data row2 col1\" >3.46%</td>\n",
       "            </tr>\n",
       "            <tr>\n",
       "                        <th id=\"T_7f8c9ca8_1552_11ea_8ba0_5cc9d3ab3042level0_row3\" class=\"row_heading level0 row3\" >housemaid</th>\n",
       "                        <td id=\"T_7f8c9ca8_1552_11ea_8ba0_5cc9d3ab3042row3_col0\" class=\"data row3 col0\" >4.19%</td>\n",
       "                        <td id=\"T_7f8c9ca8_1552_11ea_8ba0_5cc9d3ab3042row3_col1\" class=\"data row3 col1\" >1.58%</td>\n",
       "            </tr>\n",
       "            <tr>\n",
       "                        <th id=\"T_7f8c9ca8_1552_11ea_8ba0_5cc9d3ab3042level0_row4\" class=\"row_heading level0 row4\" >management</th>\n",
       "                        <td id=\"T_7f8c9ca8_1552_11ea_8ba0_5cc9d3ab3042row4_col0\" class=\"data row4 col0\" >23.80%</td>\n",
       "                        <td id=\"T_7f8c9ca8_1552_11ea_8ba0_5cc9d3ab3042row4_col1\" class=\"data row4 col1\" >18.62%</td>\n",
       "            </tr>\n",
       "            <tr>\n",
       "                        <th id=\"T_7f8c9ca8_1552_11ea_8ba0_5cc9d3ab3042level0_row5\" class=\"row_heading level0 row5\" >retired</th>\n",
       "                        <td id=\"T_7f8c9ca8_1552_11ea_8ba0_5cc9d3ab3042row5_col0\" class=\"data row5 col0\" >8.83%</td>\n",
       "                        <td id=\"T_7f8c9ca8_1552_11ea_8ba0_5cc9d3ab3042row5_col1\" class=\"data row5 col1\" >1.95%</td>\n",
       "            </tr>\n",
       "            <tr>\n",
       "                        <th id=\"T_7f8c9ca8_1552_11ea_8ba0_5cc9d3ab3042level0_row6\" class=\"row_heading level0 row6\" >self-employed</th>\n",
       "                        <td id=\"T_7f8c9ca8_1552_11ea_8ba0_5cc9d3ab3042row6_col0\" class=\"data row6 col0\" >4.05%</td>\n",
       "                        <td id=\"T_7f8c9ca8_1552_11ea_8ba0_5cc9d3ab3042row6_col1\" class=\"data row6 col1\" >3.04%</td>\n",
       "            </tr>\n",
       "            <tr>\n",
       "                        <th id=\"T_7f8c9ca8_1552_11ea_8ba0_5cc9d3ab3042level0_row7\" class=\"row_heading level0 row7\" >services</th>\n",
       "                        <td id=\"T_7f8c9ca8_1552_11ea_8ba0_5cc9d3ab3042row7_col0\" class=\"data row7 col0\" >6.91%</td>\n",
       "                        <td id=\"T_7f8c9ca8_1552_11ea_8ba0_5cc9d3ab3042row7_col1\" class=\"data row7 col1\" >11.01%</td>\n",
       "            </tr>\n",
       "            <tr>\n",
       "                        <th id=\"T_7f8c9ca8_1552_11ea_8ba0_5cc9d3ab3042level0_row8\" class=\"row_heading level0 row8\" >student</th>\n",
       "                        <td id=\"T_7f8c9ca8_1552_11ea_8ba0_5cc9d3ab3042row8_col0\" class=\"data row8 col0\" >3.43%</td>\n",
       "                        <td id=\"T_7f8c9ca8_1552_11ea_8ba0_5cc9d3ab3042row8_col1\" class=\"data row8 col1\" >0.99%</td>\n",
       "            </tr>\n",
       "            <tr>\n",
       "                        <th id=\"T_7f8c9ca8_1552_11ea_8ba0_5cc9d3ab3042level0_row9\" class=\"row_heading level0 row9\" >technician</th>\n",
       "                        <td id=\"T_7f8c9ca8_1552_11ea_8ba0_5cc9d3ab3042row9_col0\" class=\"data row9 col0\" >17.34%</td>\n",
       "                        <td id=\"T_7f8c9ca8_1552_11ea_8ba0_5cc9d3ab3042row9_col1\" class=\"data row9 col1\" >16.37%</td>\n",
       "            </tr>\n",
       "            <tr>\n",
       "                        <th id=\"T_7f8c9ca8_1552_11ea_8ba0_5cc9d3ab3042level0_row10\" class=\"row_heading level0 row10\" >unemployed</th>\n",
       "                        <td id=\"T_7f8c9ca8_1552_11ea_8ba0_5cc9d3ab3042row10_col0\" class=\"data row10 col0\" >3.78%</td>\n",
       "                        <td id=\"T_7f8c9ca8_1552_11ea_8ba0_5cc9d3ab3042row10_col1\" class=\"data row10 col1\" >2.16%</td>\n",
       "            </tr>\n",
       "            <tr>\n",
       "                        <th id=\"T_7f8c9ca8_1552_11ea_8ba0_5cc9d3ab3042level0_row11\" class=\"row_heading level0 row11\" >unknown</th>\n",
       "                        <td id=\"T_7f8c9ca8_1552_11ea_8ba0_5cc9d3ab3042row11_col0\" class=\"data row11 col0\" >1.30%</td>\n",
       "                        <td id=\"T_7f8c9ca8_1552_11ea_8ba0_5cc9d3ab3042row11_col1\" class=\"data row11 col1\" >0.10%</td>\n",
       "            </tr>\n",
       "    </tbody></table>"
      ],
      "text/plain": [
       "<pandas.io.formats.style.Styler at 0x29a387fe3c8>"
      ]
     },
     "execution_count": 38,
     "metadata": {},
     "output_type": "execute_result"
    }
   ],
   "source": [
    "pd.crosstab(df_personal.job, df_personal.housing, normalize=\"columns\").style.format(\"{:.2%}\")"
   ]
  },
  {
   "cell_type": "code",
   "execution_count": 39,
   "metadata": {},
   "outputs": [
    {
     "data": {
      "text/html": [
       "<style  type=\"text/css\" >\n",
       "</style><table id=\"T_7f93c3b8_1552_11ea_be36_5cc9d3ab3042\" ><thead>    <tr>        <th class=\"index_name level0\" >housing</th>        <th class=\"col_heading level0 col0\" >False</th>        <th class=\"col_heading level0 col1\" >True</th>    </tr>    <tr>        <th class=\"index_name level0\" >education</th>        <th class=\"blank\" ></th>        <th class=\"blank\" ></th>    </tr></thead><tbody>\n",
       "                <tr>\n",
       "                        <th id=\"T_7f93c3b8_1552_11ea_be36_5cc9d3ab3042level0_row0\" class=\"row_heading level0 row0\" >primary</th>\n",
       "                        <td id=\"T_7f93c3b8_1552_11ea_be36_5cc9d3ab3042row0_col0\" class=\"data row0 col0\" >14.73%</td>\n",
       "                        <td id=\"T_7f93c3b8_1552_11ea_be36_5cc9d3ab3042row0_col1\" class=\"data row0 col1\" >15.50%</td>\n",
       "            </tr>\n",
       "            <tr>\n",
       "                        <th id=\"T_7f93c3b8_1552_11ea_be36_5cc9d3ab3042level0_row1\" class=\"row_heading level0 row1\" >secondary</th>\n",
       "                        <td id=\"T_7f93c3b8_1552_11ea_be36_5cc9d3ab3042row1_col0\" class=\"data row1 col0\" >45.64%</td>\n",
       "                        <td id=\"T_7f93c3b8_1552_11ea_be36_5cc9d3ab3042row1_col1\" class=\"data row1 col1\" >55.86%</td>\n",
       "            </tr>\n",
       "            <tr>\n",
       "                        <th id=\"T_7f93c3b8_1552_11ea_be36_5cc9d3ab3042level0_row2\" class=\"row_heading level0 row2\" >tertiary</th>\n",
       "                        <td id=\"T_7f93c3b8_1552_11ea_be36_5cc9d3ab3042row2_col0\" class=\"data row2 col0\" >34.48%</td>\n",
       "                        <td id=\"T_7f93c3b8_1552_11ea_be36_5cc9d3ab3042row2_col1\" class=\"data row2 col1\" >25.38%</td>\n",
       "            </tr>\n",
       "            <tr>\n",
       "                        <th id=\"T_7f93c3b8_1552_11ea_be36_5cc9d3ab3042level0_row3\" class=\"row_heading level0 row3\" >unknown</th>\n",
       "                        <td id=\"T_7f93c3b8_1552_11ea_be36_5cc9d3ab3042row3_col0\" class=\"data row3 col0\" >5.16%</td>\n",
       "                        <td id=\"T_7f93c3b8_1552_11ea_be36_5cc9d3ab3042row3_col1\" class=\"data row3 col1\" >3.26%</td>\n",
       "            </tr>\n",
       "    </tbody></table>"
      ],
      "text/plain": [
       "<pandas.io.formats.style.Styler at 0x29a38761668>"
      ]
     },
     "execution_count": 39,
     "metadata": {},
     "output_type": "execute_result"
    }
   ],
   "source": [
    "pd.crosstab(df_personal.education, df_personal.housing, normalize=\"columns\").style.format(\"{:.2%}\")"
   ]
  },
  {
   "cell_type": "code",
   "execution_count": 40,
   "metadata": {},
   "outputs": [
    {
     "data": {
      "text/html": [
       "<style  type=\"text/css\" >\n",
       "</style><table id=\"T_7f9cbe48_1552_11ea_800c_5cc9d3ab3042\" ><thead>    <tr>        <th class=\"index_name level0\" >housing</th>        <th class=\"col_heading level0 col0\" >False</th>        <th class=\"col_heading level0 col1\" >True</th>    </tr>    <tr>        <th class=\"index_name level0\" >marital</th>        <th class=\"blank\" ></th>        <th class=\"blank\" ></th>    </tr></thead><tbody>\n",
       "                <tr>\n",
       "                        <th id=\"T_7f9cbe48_1552_11ea_800c_5cc9d3ab3042level0_row0\" class=\"row_heading level0 row0\" >divorced</th>\n",
       "                        <td id=\"T_7f9cbe48_1552_11ea_800c_5cc9d3ab3042row0_col0\" class=\"data row0 col0\" >11.45%</td>\n",
       "                        <td id=\"T_7f9cbe48_1552_11ea_800c_5cc9d3ab3042row0_col1\" class=\"data row0 col1\" >11.57%</td>\n",
       "            </tr>\n",
       "            <tr>\n",
       "                        <th id=\"T_7f9cbe48_1552_11ea_800c_5cc9d3ab3042level0_row1\" class=\"row_heading level0 row1\" >married</th>\n",
       "                        <td id=\"T_7f9cbe48_1552_11ea_800c_5cc9d3ab3042row1_col0\" class=\"data row1 col0\" >59.23%</td>\n",
       "                        <td id=\"T_7f9cbe48_1552_11ea_800c_5cc9d3ab3042row1_col1\" class=\"data row1 col1\" >60.97%</td>\n",
       "            </tr>\n",
       "            <tr>\n",
       "                        <th id=\"T_7f9cbe48_1552_11ea_800c_5cc9d3ab3042level0_row2\" class=\"row_heading level0 row2\" >single</th>\n",
       "                        <td id=\"T_7f9cbe48_1552_11ea_800c_5cc9d3ab3042row2_col0\" class=\"data row2 col0\" >29.32%</td>\n",
       "                        <td id=\"T_7f9cbe48_1552_11ea_800c_5cc9d3ab3042row2_col1\" class=\"data row2 col1\" >27.47%</td>\n",
       "            </tr>\n",
       "    </tbody></table>"
      ],
      "text/plain": [
       "<pandas.io.formats.style.Styler at 0x29a3885f278>"
      ]
     },
     "execution_count": 40,
     "metadata": {},
     "output_type": "execute_result"
    }
   ],
   "source": [
    "pd.crosstab(df_personal.marital, df_personal.housing, normalize=\"columns\").style.format(\"{:.2%}\")"
   ]
  },
  {
   "cell_type": "markdown",
   "metadata": {},
   "source": [
    "Os dados fornecidos sugerem como características de diferenciação dos clientes com empréstimo imobiliário:\n",
    "* mais jovens (idade média de 39 anos versus 43, além de distribuição mais próxima da média com menor desvio padrão e IQR)\n",
    "* saldo bancário médio mais baixo (ambos com distribuição fortemente assimétrica positiva, mas com quartis sistematicamente mais baixos)\n",
    "* grau de escolaridade mais concentrado em secundário\n",
    "* setor de profissão mais comum operário, versus gerencial"
   ]
  }
 ],
 "metadata": {
  "kernelspec": {
   "display_name": "Python 3",
   "language": "python",
   "name": "python3"
  },
  "language_info": {
   "codemirror_mode": {
    "name": "ipython",
    "version": 3
   },
   "file_extension": ".py",
   "mimetype": "text/x-python",
   "name": "python",
   "nbconvert_exporter": "python",
   "pygments_lexer": "ipython3",
   "version": "3.7.1"
  }
 },
 "nbformat": 4,
 "nbformat_minor": 2
}
